{
 "cells": [
  {
   "cell_type": "code",
   "execution_count": 1,
   "metadata": {
    "collapsed": false
   },
   "outputs": [],
   "source": [
    "from graph import *"
   ]
  },
  {
   "cell_type": "markdown",
   "metadata": {},
   "source": [
    "### Problem 2"
   ]
  },
  {
   "cell_type": "code",
   "execution_count": 2,
   "metadata": {
    "collapsed": false
   },
   "outputs": [],
   "source": [
    "def load_map(mapFilename):\n",
    "    \"\"\" \n",
    "    Parses the map file and constructs a directed graph\n",
    "\n",
    "    Parameters: \n",
    "        mapFilename : name of the map file\n",
    "\n",
    "    Assumes:\n",
    "        Each entry in the map file consists of the following four positive \n",
    "        integers, separated by a blank space:\n",
    "            From To TotalDistance DistanceOutdoors\n",
    "        e.g.\n",
    "            32 76 54 23\n",
    "        This entry would become an edge from 32 to 76.\n",
    "\n",
    "    Returns:\n",
    "        a directed graph representing the map\n",
    "    \"\"\"\n",
    "    # TODO\n",
    "    print \"Loading map from file...\"\n",
    "    mapFile = open(mapFilename, 'r')\n",
    "    g = WeightedDigraph()\n",
    "    for line in mapFile:\n",
    "        line = line.split()\n",
    "        node1 = Node(line[0])\n",
    "        node2 = Node(line[1])\n",
    "        if node1 not in g.nodes:\n",
    "            g.addNode(node1)\n",
    "        if node2 not in g.nodes:\n",
    "            g.addNode(node2)\n",
    "        edge = WeightedEdge(node1, node2, eval(line[2]), eval(line[3]))\n",
    "        g.addEdge(edge)\n",
    "    return g"
   ]
  },
  {
   "cell_type": "code",
   "execution_count": 3,
   "metadata": {
    "collapsed": false
   },
   "outputs": [
    {
     "name": "stdout",
     "output_type": "stream",
     "text": [
      "Loading map from file...\n",
      "True\n"
     ]
    }
   ],
   "source": [
    "mitMap = load_map(\"mit_map.txt\")\n",
    "print isinstance(mitMap, Digraph)"
   ]
  },
  {
   "cell_type": "code",
   "execution_count": 4,
   "metadata": {
    "collapsed": false
   },
   "outputs": [
    {
     "name": "stdout",
     "output_type": "stream",
     "text": [
      "True\n"
     ]
    }
   ],
   "source": [
    "print isinstance(mitMap, WeightedDigraph)"
   ]
  },
  {
   "cell_type": "code",
   "execution_count": 5,
   "metadata": {
    "collapsed": false
   },
   "outputs": [
    {
     "name": "stdout",
     "output_type": "stream",
     "text": [
      "set([36, 62, 64, 66, 68, 24, 26, 48, 46, 18, 1, 3, 2, 5, 4, 7, 6, 9, 8, 39, 76, 12, 10, 13, 38, 14, 16, 33, 54, 57, 56, 37, 50, 35, 34, 32, 31])\n"
     ]
    }
   ],
   "source": [
    "print set(mitMap.nodes)#所有教学楼的楼号"
   ]
  },
  {
   "cell_type": "code",
   "execution_count": 6,
   "metadata": {
    "collapsed": false
   },
   "outputs": [
    {
     "name": "stdout",
     "output_type": "stream",
     "text": [
      "[[32, (70.0, 0.0)], [26, (34.0, 0.0)], [34, (25.0, 0.0)], [46, (80.0, 40.0)], [48, (100.0, 80.0)]]\n"
     ]
    }
   ],
   "source": [
    "s = {}\n",
    "for start in mitMap.edges:\n",
    "    s[start] = []#存储以start节点作为起点的有权边\n",
    "    for t in mitMap.edges[start]:\n",
    "        s[start].append([t[0], (float(t[1]), float(t[2]))])\n",
    "print s[Node(\"36\")]#输出起点为36的有权边"
   ]
  },
  {
   "cell_type": "markdown",
   "metadata": {},
   "source": [
    "### Problem 3\n",
    "\n",
    "求出满足约束的“最短路径”。已知带权重的有向图`mitMap`已被建立好，可用作程序测试。"
   ]
  },
  {
   "cell_type": "code",
   "execution_count": 7,
   "metadata": {
    "collapsed": false
   },
   "outputs": [
    {
     "data": {
      "text/plain": [
       "<graph.WeightedDigraph at 0x3f49438>"
      ]
     },
     "execution_count": 7,
     "metadata": {},
     "output_type": "execute_result"
    }
   ],
   "source": [
    "mitMap"
   ]
  },
  {
   "cell_type": "markdown",
   "metadata": {},
   "source": [
    "如果想从点1到点4："
   ]
  },
  {
   "cell_type": "code",
   "execution_count": 8,
   "metadata": {
    "collapsed": false,
    "scrolled": true
   },
   "outputs": [],
   "source": [
    "paths = []\n",
    "\n",
    "def getPath(graph, start, end, path = []):\n",
    "    path = path + [start]\n",
    "    if start == end:\n",
    "        paths.append(path)\n",
    "    for node in graph.childrenOf(start):\n",
    "        if node not in path: \n",
    "            getPath(graph, node, end, path)\n",
    "\n",
    "getPath(mitMap, Node('1'), Node('4'))"
   ]
  },
  {
   "cell_type": "code",
   "execution_count": 9,
   "metadata": {
    "collapsed": false
   },
   "outputs": [
    {
     "data": {
      "text/plain": [
       "55179"
      ]
     },
     "execution_count": 9,
     "metadata": {},
     "output_type": "execute_result"
    }
   ],
   "source": [
    "len(paths)"
   ]
  },
  {
   "cell_type": "markdown",
   "metadata": {},
   "source": [
    "存在`1->2->3->4`这一通路。"
   ]
  },
  {
   "cell_type": "code",
   "execution_count": 24,
   "metadata": {
    "collapsed": false
   },
   "outputs": [
    {
     "data": {
      "text/plain": [
       "[[1, 2, 10, 4], [1, 2, 3, 4], [1, 3, 10, 4], [1, 3, 2, 4]]"
      ]
     },
     "execution_count": 24,
     "metadata": {},
     "output_type": "execute_result"
    }
   ],
   "source": [
    "[path for path in paths if len(path) == 4]"
   ]
  },
  {
   "cell_type": "markdown",
   "metadata": {},
   "source": [
    "如果先找出所有连通路径（而不考虑距离约束），会得到55179个结果，如果对这么多结果进行遍历过滤，时间花费太大。有下面的实验可以看出，想从1走到4，存在非常多路径，而且不同路径之间差距很大。"
   ]
  },
  {
   "cell_type": "code",
   "execution_count": 10,
   "metadata": {
    "collapsed": true
   },
   "outputs": [],
   "source": [
    "lengthOfPaths = [len(path) for path in paths]"
   ]
  },
  {
   "cell_type": "code",
   "execution_count": 11,
   "metadata": {
    "collapsed": false
   },
   "outputs": [
    {
     "data": {
      "text/plain": [
       "2"
      ]
     },
     "execution_count": 11,
     "metadata": {},
     "output_type": "execute_result"
    }
   ],
   "source": [
    "min(lengthOfPaths)"
   ]
  },
  {
   "cell_type": "code",
   "execution_count": 12,
   "metadata": {
    "collapsed": false
   },
   "outputs": [
    {
     "data": {
      "text/plain": [
       "11275"
      ]
     },
     "execution_count": 12,
     "metadata": {},
     "output_type": "execute_result"
    }
   ],
   "source": [
    "lengthOfPaths.index(2)"
   ]
  },
  {
   "cell_type": "code",
   "execution_count": 13,
   "metadata": {
    "collapsed": false
   },
   "outputs": [
    {
     "name": "stdout",
     "output_type": "stream",
     "text": [
      "[1, 4]\n"
     ]
    }
   ],
   "source": [
    "print paths[11275]"
   ]
  },
  {
   "cell_type": "code",
   "execution_count": 14,
   "metadata": {
    "collapsed": false
   },
   "outputs": [
    {
     "data": {
      "text/plain": [
       "31"
      ]
     },
     "execution_count": 14,
     "metadata": {},
     "output_type": "execute_result"
    }
   ],
   "source": [
    "max(lengthOfPaths)"
   ]
  },
  {
   "cell_type": "code",
   "execution_count": 15,
   "metadata": {
    "collapsed": false
   },
   "outputs": [
    {
     "data": {
      "text/plain": [
       "5434"
      ]
     },
     "execution_count": 15,
     "metadata": {},
     "output_type": "execute_result"
    }
   ],
   "source": [
    "lengthOfPaths.index(31)"
   ]
  },
  {
   "cell_type": "code",
   "execution_count": 16,
   "metadata": {
    "collapsed": false
   },
   "outputs": [
    {
     "name": "stdout",
     "output_type": "stream",
     "text": [
      "[1, 2, 6, 8, 16, 56, 18, 54, 66, 68, 76, 32, 46, 48, 36, 26, 12, 24, 34, 38, 39, 13, 31, 37, 35, 33, 9, 7, 3, 10, 4]\n"
     ]
    }
   ],
   "source": [
    "print paths[5434]"
   ]
  },
  {
   "cell_type": "code",
   "execution_count": 17,
   "metadata": {
    "collapsed": false
   },
   "outputs": [
    {
     "name": "stdout",
     "output_type": "stream",
     "text": [
      "From 1 to [(2, 75, 60), (4, 80, 65), (3, 36, 0), (5, 32, 0)]\n",
      "From 2 to [(6, 41, 0), (14, 51, 0), (4, 36, 0), (10, 70, 50), (3, 70, 50), (1, 75, 60)]\n",
      "From 3 to [(10, 32, 0), (4, 60, 50), (2, 70, 50), (1, 36, 0), (7, 25, 0)]\n",
      "From 4 to [(12, 56, 0), (8, 47, 0), (2, 36, 0), (10, 47, 0), (3, 60, 50), (1, 80, 65)]\n"
     ]
    }
   ],
   "source": [
    "for i in range(1,5):\n",
    "    print \"From %d to\" % i, mitMap.edges[Node(i)]"
   ]
  },
  {
   "cell_type": "markdown",
   "metadata": {},
   "source": [
    "如果走`1->2->3->4`的话，室外距离是60+50+50=160。"
   ]
  },
  {
   "cell_type": "markdown",
   "metadata": {},
   "source": [
    "考虑按照指示，先找出满足“室外距离”约束的路径，随后对这些路径进行“总距离”约束的过滤。"
   ]
  },
  {
   "cell_type": "code",
   "execution_count": 38,
   "metadata": {
    "collapsed": false
   },
   "outputs": [
    {
     "name": "stdout",
     "output_type": "stream",
     "text": [
      "(75, 60)\n",
      "(70, 50)\n",
      "(60, 50)\n"
     ]
    }
   ],
   "source": [
    "#取出graph中连接fromNode和toNode的有权边的两个权值：总距离和室外距离\n",
    "#主程序的逻辑可以确保存在自fromNode到toNode的有权边\n",
    "\n",
    "def getWeightOfEdge(graph, fromNode, toNode):\n",
    "    weightedEdges = graph.edges[fromNode]\n",
    "    theEdge = [edge for edge in weightedEdges if str(edge[0]) == toNode.getName()][0]\n",
    "    return theEdge[1], theEdge[2]\n",
    "\n",
    "print getWeightOfEdge(mitMap, Node(\"1\"), Node(\"2\"))\n",
    "print getWeightOfEdge(mitMap, Node(\"2\"), Node(\"3\"))\n",
    "print getWeightOfEdge(mitMap, Node(\"3\"), Node(\"4\"))"
   ]
  },
  {
   "cell_type": "markdown",
   "metadata": {},
   "source": [
    "在getPath的基础上，加入室外距离约束。"
   ]
  },
  {
   "cell_type": "code",
   "execution_count": 47,
   "metadata": {
    "collapsed": false
   },
   "outputs": [],
   "source": [
    "pathsSatisfyMaxOutdoors = []\n",
    "\n",
    "def getPathSatisfyMaxOutdoors(graph, start, end, path, nowDistOutdoors, maxDistOutdoors):\n",
    "    path = path + [start]\n",
    "    if start == end:\n",
    "        pathsSatisfyMaxOutdoors.append(path)\n",
    "    for node in graph.childrenOf(start):\n",
    "        if node not in path:\n",
    "            newDist = getWeightOfEdge(graph, start, node)[1]\n",
    "            if nowDistOutdoors + newDist <= maxDistOutdoors:\n",
    "                getPathSatisfyMaxOutdoors(graph, node, end, path, nowDistOutdoors + newDist, maxDistOutdoors)\n",
    "\n",
    "getPathSatisfyMaxOutdoors(mitMap, Node(\"1\"), Node(\"4\"), [], 0, 150)"
   ]
  },
  {
   "cell_type": "markdown",
   "metadata": {},
   "source": [
    "把室外距离约束设为150，则把`[1,2,3,4]`筛除掉，说明算法正确。"
   ]
  },
  {
   "cell_type": "code",
   "execution_count": 48,
   "metadata": {
    "collapsed": false
   },
   "outputs": [
    {
     "data": {
      "text/plain": [
       "[[1, 2, 10, 4], [1, 3, 10, 4], [1, 3, 2, 4]]"
      ]
     },
     "execution_count": 48,
     "metadata": {},
     "output_type": "execute_result"
    }
   ],
   "source": [
    "[path for path in pathsSatisfyMaxOutdoors if len(path) == 4]"
   ]
  },
  {
   "cell_type": "markdown",
   "metadata": {},
   "source": [
    "对满足室外距离约束的路径进行基于总距离约束的过滤，同时找出其中满足双约束的最短路径。对于每一条满足室外距离约束的路径，看是否满足总距离的约束。若满足，检查是否是最短路径。"
   ]
  },
  {
   "cell_type": "code",
   "execution_count": 49,
   "metadata": {
    "collapsed": true
   },
   "outputs": [],
   "source": [
    "def getShortestPathSatisfyBothConstraints(graph, paths, maxTotalDist):\n",
    "    minDist = 10000000\n",
    "    theShortestPath = []\n",
    "    for path in paths:\n",
    "        nowTotalDist = 0\n",
    "        exceedMaxTotalDist = False\n",
    "        for i in range(len(path) - 1):\n",
    "            curBldg = Node(str(path[i]))\n",
    "            nxtBldg = Node(str(path[i + 1]))\n",
    "            theDist = getWeightOfEdge(graph, curBldg, nxtBldg)[0]\n",
    "            nowTotalDist += theDist\n",
    "            if nowTotalDist > maxTotalDist:\n",
    "                exceedMaxTotalDist = True\n",
    "                break\n",
    "        if exceedMaxTotalDist:\n",
    "            continue\n",
    "        if nowTotalDist < minDist:\n",
    "            minDist = nowTotalDist\n",
    "            theShortestPath = path\n",
    "    return theShortestPath"
   ]
  },
  {
   "cell_type": "markdown",
   "metadata": {},
   "source": [
    "得到室外距离小于150， 总距离小于200的最短路径。"
   ]
  },
  {
   "cell_type": "code",
   "execution_count": 50,
   "metadata": {
    "collapsed": false
   },
   "outputs": [
    {
     "data": {
      "text/plain": [
       "[1, 4]"
      ]
     },
     "execution_count": 50,
     "metadata": {},
     "output_type": "execute_result"
    }
   ],
   "source": [
    "getShortestPathSatisfyBothConstraints(mitMap, pathsSatisfyMaxOutdoors, 200)"
   ]
  },
  {
   "cell_type": "markdown",
   "metadata": {},
   "source": [
    "`Python`支持在函数内定义函数，因此可以用函数式编程的思想，把多个辅助函数组合起来。"
   ]
  },
  {
   "cell_type": "code",
   "execution_count": 61,
   "metadata": {
    "collapsed": true
   },
   "outputs": [],
   "source": [
    "def fact(k):\n",
    "    def iterFact(n, result):\n",
    "        if n > k:\n",
    "            return result\n",
    "        return iterFact(n + 1, n * result)\n",
    "    return iterFact(1, 1)"
   ]
  },
  {
   "cell_type": "code",
   "execution_count": 62,
   "metadata": {
    "collapsed": false
   },
   "outputs": [
    {
     "data": {
      "text/plain": [
       "120"
      ]
     },
     "execution_count": 62,
     "metadata": {},
     "output_type": "execute_result"
    }
   ],
   "source": [
    "fact(5)"
   ]
  },
  {
   "cell_type": "markdown",
   "metadata": {},
   "source": [
    "下面用`bruteForceSearch`将上面的辅助函数组合起来。"
   ]
  },
  {
   "cell_type": "code",
   "execution_count": 68,
   "metadata": {
    "collapsed": true
   },
   "outputs": [],
   "source": [
    "def bruteForceSearch(digraph, start, end, maxTotalDist, maxDistOutdoors):\n",
    "    \"\"\"\n",
    "    Finds the shortest path from start to end using brute-force approach.\n",
    "    The total distance traveled on the path must not exceed maxTotalDist,\n",
    "    and the distance spent outdoor on this path must not exceed\n",
    "    maxDistOutdoors.\n",
    "\n",
    "    Parameters:\n",
    "        digraph: instance of class Digraph or its subclass\n",
    "        start, end: start & end building numbers (strings)\n",
    "        maxTotalDist : maximum total distance on a path (integer)\n",
    "        maxDistOutdoors: maximum distance spent outdoors on a path (integer)\n",
    "\n",
    "    Assumes:\n",
    "        start and end are numbers for existing buildings in graph\n",
    "\n",
    "    Returns:\n",
    "        The shortest-path from start to end, represented by\n",
    "        a list of building numbers (in strings), [n_1, n_2, ..., n_k],\n",
    "        where there exists an edge from n_i to n_(i+1) in digraph,\n",
    "        for all 1 <= i < k.\n",
    "\n",
    "        If there exists no path that satisfies maxTotalDist and\n",
    "        maxDistOutdoors constraints, then raises a ValueError.\n",
    "    \"\"\"\n",
    "    \n",
    "    #根据注释，输入的start和end是代表楼号的字符串。首先需要转换为节点对象\n",
    "    start = Node(start)\n",
    "    end = Node(end)\n",
    "    \n",
    "    #返回连接两点的有权边的权值\n",
    "    def getWeightOfEdge(fromNode, toNode):\n",
    "        weightedEdges = digraph.edges[fromNode]\n",
    "        theEdge = [edge for edge in weightedEdges if str(edge[0]) == toNode.getName()][0]\n",
    "        #在MITx平台上必须加eval\n",
    "        #return eval(theEdge[1]), eval(theEdge[2])\n",
    "        return theEdge[1], theEdge[2]\n",
    "    \n",
    "    #用于存放满足室外距离约束的所有路径\n",
    "    paths = []\n",
    "    \n",
    "    #基于室外距离约束进行路径筛除\n",
    "    def getPathSatisfyMaxOutdoors(cur, path, nowDistOutdoors):\n",
    "        path = path + [cur]\n",
    "        if cur == end:\n",
    "            paths.append(path)\n",
    "        for node in digraph.childrenOf(cur):\n",
    "            if node not in path:\n",
    "                newDist = getWeightOfEdge(cur, node)[1]\n",
    "                if nowDistOutdoors + newDist <= maxDistOutdoors:\n",
    "                    getPathSatisfyMaxOutdoors(node, path, nowDistOutdoors + newDist)\n",
    "    \n",
    "    getPathSatisfyMaxOutdoors(start, [], 0)\n",
    "    if paths == []:\n",
    "        raise ValueError\n",
    "    \n",
    "    #找出满足双重约束的最短路径\n",
    "    def getShortestPathSatisfyBothConstraints():\n",
    "        minDist = 10000000\n",
    "        theShortestPath = []\n",
    "        for path in paths:\n",
    "            nowTotalDist = 0\n",
    "            exceedMaxTotalDist = False\n",
    "            for i in range(len(path) - 1):\n",
    "                curBldg = Node(str(path[i]))\n",
    "                nxtBldg = Node(str(path[i + 1]))\n",
    "                theDist = getWeightOfEdge(curBldg, nxtBldg)[0]\n",
    "                nowTotalDist += theDist\n",
    "                if nowTotalDist > maxTotalDist:\n",
    "                    exceedMaxTotalDist = True\n",
    "                    break\n",
    "            if exceedMaxTotalDist:\n",
    "                continue\n",
    "            if nowTotalDist < minDist:\n",
    "                minDist = nowTotalDist\n",
    "                theShortestPath = path\n",
    "        return theShortestPath\n",
    "    \n",
    "    theShortestPath = getShortestPathSatisfyBothConstraints()\n",
    "    if theShortestPath == []:\n",
    "        raise ValueError\n",
    "    \n",
    "    theShortestPath = [str(bldgNo) for bldgNo in theShortestPath]\n",
    "    return theShortestPath"
   ]
  },
  {
   "cell_type": "code",
   "execution_count": 69,
   "metadata": {
    "collapsed": false
   },
   "outputs": [
    {
     "data": {
      "text/plain": [
       "['1', '4']"
      ]
     },
     "execution_count": 69,
     "metadata": {},
     "output_type": "execute_result"
    }
   ],
   "source": [
    "bruteForceSearch(mitMap, \"1\", \"4\", 200, 150)"
   ]
  },
  {
   "cell_type": "code",
   "execution_count": 70,
   "metadata": {
    "collapsed": false
   },
   "outputs": [
    {
     "data": {
      "text/plain": [
       "['1', '5']"
      ]
     },
     "execution_count": 70,
     "metadata": {},
     "output_type": "execute_result"
    }
   ],
   "source": [
    "bruteForceSearch(mitMap, \"1\", \"5\", 210, 100)"
   ]
  },
  {
   "cell_type": "code",
   "execution_count": 71,
   "metadata": {
    "collapsed": false
   },
   "outputs": [
    {
     "data": {
      "text/plain": [
       "['36', '32']"
      ]
     },
     "execution_count": 71,
     "metadata": {},
     "output_type": "execute_result"
    }
   ],
   "source": [
    "bruteForceSearch(mitMap, \"36\", \"32\", 2000, 2000)"
   ]
  },
  {
   "cell_type": "code",
   "execution_count": 72,
   "metadata": {
    "collapsed": false
   },
   "outputs": [
    {
     "data": {
      "text/plain": [
       "(70, 0)"
      ]
     },
     "execution_count": 72,
     "metadata": {},
     "output_type": "execute_result"
    }
   ],
   "source": [
    "getWeightOfEdge(mitMap, Node(36), Node(32))"
   ]
  },
  {
   "cell_type": "markdown",
   "metadata": {},
   "source": [
    "这个函数看上去很对，但在交作业的时候一直报一些莫名其妙的错误……让我再确认一下函数有没有写错。"
   ]
  },
  {
   "cell_type": "code",
   "execution_count": 73,
   "metadata": {
    "collapsed": false
   },
   "outputs": [
    {
     "data": {
      "text/plain": [
       "['36', '34', '24', '13', '10', '3', '1']"
      ]
     },
     "execution_count": 73,
     "metadata": {},
     "output_type": "execute_result"
    }
   ],
   "source": [
    "bruteForceSearch(mitMap, \"36\", \"1\", 400, 400)"
   ]
  },
  {
   "cell_type": "markdown",
   "metadata": {},
   "source": [
    "先计算出这一路径的室外距离，然后把约束降至该值以下，看是否返回一个别的路径。如果写对的话，肯定要出现别的路径。这一路径不如前一路径的总距离那么短，但是它的室外距离满足新规定。"
   ]
  },
  {
   "cell_type": "code",
   "execution_count": 74,
   "metadata": {
    "collapsed": true
   },
   "outputs": [],
   "source": [
    "def getWeightOfPath(graph, path):\n",
    "    totalDist = 0\n",
    "    distOutdoors = 0\n",
    "    for i in range(len(path) - 1):\n",
    "        fromNode = Node(path[i])\n",
    "        toNode = Node(path[i + 1])\n",
    "        d1, d2 = getWeightOfEdge(graph, fromNode, toNode)\n",
    "        totalDist += d1\n",
    "        distOutdoors += d2\n",
    "    return totalDist, distOutdoors"
   ]
  },
  {
   "cell_type": "code",
   "execution_count": 75,
   "metadata": {
    "collapsed": false
   },
   "outputs": [
    {
     "data": {
      "text/plain": [
       "(185, 30)"
      ]
     },
     "execution_count": 75,
     "metadata": {},
     "output_type": "execute_result"
    }
   ],
   "source": [
    "getWeightOfPath(mitMap, [36, 34, 24, 13, 10, 3, 1])"
   ]
  },
  {
   "cell_type": "code",
   "execution_count": 76,
   "metadata": {
    "collapsed": false
   },
   "outputs": [
    {
     "data": {
      "text/plain": [
       "['36', '26', '12', '4', '10', '3', '1']"
      ]
     },
     "execution_count": 76,
     "metadata": {},
     "output_type": "execute_result"
    }
   ],
   "source": [
    "bruteForceSearch(mitMap, \"36\", \"1\", 400, 29)"
   ]
  },
  {
   "cell_type": "code",
   "execution_count": 77,
   "metadata": {
    "collapsed": false
   },
   "outputs": [
    {
     "data": {
      "text/plain": [
       "(235, 25)"
      ]
     },
     "execution_count": 77,
     "metadata": {},
     "output_type": "execute_result"
    }
   ],
   "source": [
    "getWeightOfPath(mitMap, [36, 26, 12, 4, 10, 3, 1])"
   ]
  },
  {
   "cell_type": "markdown",
   "metadata": {},
   "source": [
    "可以发现，新路径不如原路径那么短，但室外距离满足29这一约束。"
   ]
  },
  {
   "cell_type": "code",
   "execution_count": 78,
   "metadata": {
    "collapsed": false
   },
   "outputs": [
    {
     "data": {
      "text/plain": [
       "['36', '34', '24', '12', '4', '10', '3', '1']"
      ]
     },
     "execution_count": 78,
     "metadata": {},
     "output_type": "execute_result"
    }
   ],
   "source": [
    "bruteForceSearch(mitMap, \"36\", \"1\", 400, 24)"
   ]
  },
  {
   "cell_type": "code",
   "execution_count": 79,
   "metadata": {
    "collapsed": false
   },
   "outputs": [
    {
     "data": {
      "text/plain": [
       "(256, 0)"
      ]
     },
     "execution_count": 79,
     "metadata": {},
     "output_type": "execute_result"
    }
   ],
   "source": [
    "getWeightOfPath(mitMap, [36, 34, 24, 12, 4, 10, 3, 1])"
   ]
  },
  {
   "cell_type": "markdown",
   "metadata": {},
   "source": [
    "甚至发现了一条室外距离为0的路径。下面要出现`ValueError`了。"
   ]
  },
  {
   "cell_type": "code",
   "execution_count": 80,
   "metadata": {
    "collapsed": false
   },
   "outputs": [
    {
     "ename": "ValueError",
     "evalue": "",
     "output_type": "error",
     "traceback": [
      "\u001b[1;31m---------------------------------------------------------------------------\u001b[0m",
      "\u001b[1;31mValueError\u001b[0m                                Traceback (most recent call last)",
      "\u001b[1;32m<ipython-input-80-719310d2bdd8>\u001b[0m in \u001b[0;36m<module>\u001b[1;34m()\u001b[0m\n\u001b[1;32m----> 1\u001b[1;33m \u001b[0mbruteForceSearch\u001b[0m\u001b[1;33m(\u001b[0m\u001b[0mmitMap\u001b[0m\u001b[1;33m,\u001b[0m \u001b[1;34m\"36\"\u001b[0m\u001b[1;33m,\u001b[0m \u001b[1;34m\"1\"\u001b[0m\u001b[1;33m,\u001b[0m \u001b[1;36m255\u001b[0m\u001b[1;33m,\u001b[0m \u001b[1;36m1\u001b[0m\u001b[1;33m)\u001b[0m\u001b[1;33m\u001b[0m\u001b[0m\n\u001b[0m",
      "\u001b[1;32m<ipython-input-68-97b5738e84cc>\u001b[0m in \u001b[0;36mbruteForceSearch\u001b[1;34m(digraph, start, end, maxTotalDist, maxDistOutdoors)\u001b[0m\n\u001b[0;32m     77\u001b[0m     \u001b[0mtheShortestPath\u001b[0m \u001b[1;33m=\u001b[0m \u001b[0mgetShortestPathSatisfyBothConstraints\u001b[0m\u001b[1;33m(\u001b[0m\u001b[1;33m)\u001b[0m\u001b[1;33m\u001b[0m\u001b[0m\n\u001b[0;32m     78\u001b[0m     \u001b[1;32mif\u001b[0m \u001b[0mtheShortestPath\u001b[0m \u001b[1;33m==\u001b[0m \u001b[1;33m[\u001b[0m\u001b[1;33m]\u001b[0m\u001b[1;33m:\u001b[0m\u001b[1;33m\u001b[0m\u001b[0m\n\u001b[1;32m---> 79\u001b[1;33m         \u001b[1;32mraise\u001b[0m \u001b[0mValueError\u001b[0m\u001b[1;33m\u001b[0m\u001b[0m\n\u001b[0m\u001b[0;32m     80\u001b[0m \u001b[1;33m\u001b[0m\u001b[0m\n\u001b[0;32m     81\u001b[0m     \u001b[0mtheShortestPath\u001b[0m \u001b[1;33m=\u001b[0m \u001b[1;33m[\u001b[0m\u001b[0mstr\u001b[0m\u001b[1;33m(\u001b[0m\u001b[0mbldgNo\u001b[0m\u001b[1;33m)\u001b[0m \u001b[1;32mfor\u001b[0m \u001b[0mbldgNo\u001b[0m \u001b[1;32min\u001b[0m \u001b[0mtheShortestPath\u001b[0m\u001b[1;33m]\u001b[0m\u001b[1;33m\u001b[0m\u001b[0m\n",
      "\u001b[1;31mValueError\u001b[0m: "
     ]
    }
   ],
   "source": [
    "bruteForceSearch(mitMap, \"36\", \"1\", 255, 1)"
   ]
  },
  {
   "cell_type": "markdown",
   "metadata": {},
   "source": [
    "最后发现，必须在辅助函数`getWeightOfEdge`的返回项中加上`eval()`才能通过测试。平台的解释器把该函数的返回结果认作`str`对象。"
   ]
  },
  {
   "cell_type": "markdown",
   "metadata": {},
   "source": [
    "### Problem 4\n",
    "\n",
    "希望在检索的时候记录最短路径，减少搜索深度。因此，搜索时需要同时记录总距离和室外距离，并依照总距离，剪枝。"
   ]
  },
  {
   "cell_type": "code",
   "execution_count": 139,
   "metadata": {
    "collapsed": true
   },
   "outputs": [],
   "source": [
    "def directedDFS(digraph, start, end, maxTotalDist, maxDistOutdoors):\n",
    "    \"\"\"\n",
    "    Finds the shortest path from start to end using directed depth-first\n",
    "    search approach. The total distance traveled on the path must not\n",
    "    exceed maxTotalDist, and the distance spent outdoor on this path\n",
    "    must not exceed maxDistOutdoors.\n",
    "\n",
    "    Parameters:\n",
    "        digraph: instance of class Digraph or its subclass\n",
    "        start, end: start & end building numbers (strings)\n",
    "        maxTotalDist : maximum total distance on a path (integer)\n",
    "        maxDistOutdoors: maximum distance spent outdoors on a path (integer)\n",
    "\n",
    "    Assumes:\n",
    "        start and end are numbers for existing buildings in graph\n",
    "\n",
    "    Returns:\n",
    "        The shortest-path from start to end, represented by\n",
    "        a list of building numbers (in strings), [n_1, n_2, ..., n_k],\n",
    "        where there exists an edge from n_i to n_(i+1) in digraph,\n",
    "        for all 1 <= i < k.\n",
    "\n",
    "        If there exists no path that satisfies maxTotalDist and\n",
    "        maxDistOutdoors constraints, then raises a ValueError.\n",
    "    \"\"\"\n",
    "    \n",
    "    start = Node(start)\n",
    "    end = Node(end)\n",
    "    \n",
    "    #返回连接两点的有权边的权值\n",
    "    def getWeightOfEdge(fromNode, toNode):\n",
    "        weightedEdges = digraph.edges[fromNode]\n",
    "        theEdge = [edge for edge in weightedEdges if str(edge[0]) == toNode.getName()][0]\n",
    "        #在MITx平台上，要加上eval()\n",
    "        return theEdge[1], theEdge[2]\n",
    "    \n",
    "    #返回路径的距离\n",
    "    def getPathDist(path):\n",
    "        if path == None:\n",
    "            return maxTotalDist, 0\n",
    "        sumTotalDist = 0\n",
    "        sumOutdoorsDist = 0\n",
    "        for i in range(len(path) - 1):\n",
    "            cur = Node(path[i])\n",
    "            nxt = Node(path[i + 1])\n",
    "            totalDist, outdoorsDist = getWeightOfEdge(cur, nxt)\n",
    "            sumTotalDist += totalDist\n",
    "            sumOutdoorsDist += outdoorsDist\n",
    "        return sumTotalDist, sumOutdoorsDist\n",
    "    \n",
    "    def search(cur, path, nowTD, nowOD, shortest = None):\n",
    "        \n",
    "        #给总距离设一个上界\n",
    "        #如果还没找到一条通路，则总距离上界为maxTotalDist\n",
    "        #如果已经找到了通路，则总距离上界为当前最短通路的总距离\n",
    "        minDist = getPathDist(shortest)[0]\n",
    "        \n",
    "        path = path + [cur]\n",
    "        if cur == end:\n",
    "            return path\n",
    "        for node in digraph.childrenOf(cur):\n",
    "            if node not in path:\n",
    "                newTD, newOD = getWeightOfEdge(cur, node)\n",
    "                cond1 = (nowTD + newTD < minDist)\n",
    "                cond2 = (nowOD + newOD <= maxDistOutdoors)\n",
    "                if cond1 and cond2:\n",
    "                    newPath = search(node, path, nowTD+newTD, nowOD+newOD, shortest)\n",
    "                    if newPath != None:\n",
    "                        shortest = newPath\n",
    "        return shortest\n",
    "    \n",
    "    theShortestPath = search(start, [], 0, 0)\n",
    "    \n",
    "    if theShortestPath == None:\n",
    "        raise ValueError\n",
    "    \n",
    "    theShortestPath = [str(bldgNo) for bldgNo in theShortestPath]\n",
    "    return theShortestPath"
   ]
  },
  {
   "cell_type": "markdown",
   "metadata": {},
   "source": [
    "速度实在是十分地块。"
   ]
  },
  {
   "cell_type": "code",
   "execution_count": 140,
   "metadata": {
    "collapsed": false
   },
   "outputs": [
    {
     "data": {
      "text/plain": [
       "['36', '34', '24', '13', '10', '3', '1']"
      ]
     },
     "execution_count": 140,
     "metadata": {},
     "output_type": "execute_result"
    }
   ],
   "source": [
    "directedDFS(mitMap, \"36\", \"1\", 400, 400)"
   ]
  },
  {
   "cell_type": "code",
   "execution_count": 136,
   "metadata": {
    "collapsed": false
   },
   "outputs": [
    {
     "data": {
      "text/plain": [
       "(185, 30)"
      ]
     },
     "execution_count": 136,
     "metadata": {},
     "output_type": "execute_result"
    }
   ],
   "source": [
    "getWeightOfPath(mitMap, ['36', '34', '24', '13', '10', '3', '1'])"
   ]
  },
  {
   "cell_type": "code",
   "execution_count": 141,
   "metadata": {
    "collapsed": false
   },
   "outputs": [
    {
     "ename": "ValueError",
     "evalue": "",
     "output_type": "error",
     "traceback": [
      "\u001b[1;31m---------------------------------------------------------------------------\u001b[0m",
      "\u001b[1;31mValueError\u001b[0m                                Traceback (most recent call last)",
      "\u001b[1;32m<ipython-input-141-3bf74b8d4894>\u001b[0m in \u001b[0;36m<module>\u001b[1;34m()\u001b[0m\n\u001b[1;32m----> 1\u001b[1;33m \u001b[0mdirectedDFS\u001b[0m\u001b[1;33m(\u001b[0m\u001b[0mmitMap\u001b[0m\u001b[1;33m,\u001b[0m \u001b[1;34m\"36\"\u001b[0m\u001b[1;33m,\u001b[0m \u001b[1;34m\"1\"\u001b[0m\u001b[1;33m,\u001b[0m \u001b[1;36m255\u001b[0m\u001b[1;33m,\u001b[0m \u001b[1;36m1\u001b[0m\u001b[1;33m)\u001b[0m\u001b[1;33m\u001b[0m\u001b[0m\n\u001b[0m",
      "\u001b[1;32m<ipython-input-139-ccfe6d024668>\u001b[0m in \u001b[0;36mdirectedDFS\u001b[1;34m(digraph, start, end, maxTotalDist, maxDistOutdoors)\u001b[0m\n\u001b[0;32m     72\u001b[0m \u001b[1;33m\u001b[0m\u001b[0m\n\u001b[0;32m     73\u001b[0m     \u001b[1;32mif\u001b[0m \u001b[0mtheShortestPath\u001b[0m \u001b[1;33m==\u001b[0m \u001b[0mNone\u001b[0m\u001b[1;33m:\u001b[0m\u001b[1;33m\u001b[0m\u001b[0m\n\u001b[1;32m---> 74\u001b[1;33m         \u001b[1;32mraise\u001b[0m \u001b[0mValueError\u001b[0m\u001b[1;33m\u001b[0m\u001b[0m\n\u001b[0m\u001b[0;32m     75\u001b[0m \u001b[1;33m\u001b[0m\u001b[0m\n\u001b[0;32m     76\u001b[0m     \u001b[0mtheShortestPath\u001b[0m \u001b[1;33m=\u001b[0m \u001b[1;33m[\u001b[0m\u001b[0mstr\u001b[0m\u001b[1;33m(\u001b[0m\u001b[0mbldgNo\u001b[0m\u001b[1;33m)\u001b[0m \u001b[1;32mfor\u001b[0m \u001b[0mbldgNo\u001b[0m \u001b[1;32min\u001b[0m \u001b[0mtheShortestPath\u001b[0m\u001b[1;33m]\u001b[0m\u001b[1;33m\u001b[0m\u001b[0m\n",
      "\u001b[1;31mValueError\u001b[0m: "
     ]
    }
   ],
   "source": [
    "directedDFS(mitMap, \"36\", \"1\", 255, 1)"
   ]
  },
  {
   "cell_type": "markdown",
   "metadata": {},
   "source": [
    "最后还是有数个测试案例没通过。按照指示，使用`ps5.py`中的测试样例。只测试`directedDFS`。"
   ]
  },
  {
   "cell_type": "code",
   "execution_count": 145,
   "metadata": {
    "collapsed": false
   },
   "outputs": [
    {
     "name": "stdout",
     "output_type": "stream",
     "text": [
      "Loading map from file...\n",
      "True\n",
      "True\n",
      "nodes set([54, 50, 62, 64, 66, 68, 24, 26, 48, 46, 1, 3, 2, 5, 4, 7, 6, 9, 8, 13, 76, 38, 10, 39, 12, 14, 16, 33, 32, 57, 56, 37, 36, 35, 34, 18, 31])\n",
      "edges {54: [(56, 40, 30), (66, 45, 35), (18, 20, 10), (62, 20, 10), (14, 70, 60), (50, 80, 70)], 50: [(14, 50, 23), (14, 25, 20)], 62: [(54, 20, 10), (64, 30, 20)], 64: [(62, 30, 20)], 66: [(68, 51, 0), (56, 40, 0), (76, 130, 100), (32, 70, 60)], 68: [(32, 110, 80), (76, 72, 30), (66, 51, 0), (56, 80, 70)], 24: [(13, 35, 30), (26, 25, 20), (34, 27, 0), (12, 33, 0)], 26: [(36, 34, 0), (16, 45, 0), (12, 30, 25), (24, 25, 20)], 48: [(32, 80, 50), (36, 100, 80), (46, 25, 10)], 46: [(32, 90, 40), (36, 80, 40), (48, 25, 10)], 1: [(2, 75, 60), (4, 80, 65), (3, 36, 0), (5, 32, 0)], 3: [(10, 32, 0), (4, 60, 50), (2, 70, 50), (1, 36, 0), (7, 25, 0)], 2: [(6, 41, 0), (14, 51, 0), (4, 36, 0), (10, 70, 50), (3, 70, 50), (1, 75, 60)], 5: [(1, 32, 0), (7, 20, 0)], 4: [(12, 56, 0), (8, 47, 0), (2, 36, 0), (10, 47, 0), (3, 60, 50), (1, 80, 65)], 7: [(5, 20, 0), (3, 25, 0), (9, 20, 0)], 6: [(8, 39, 0), (2, 41, 0)], 9: [(13, 40, 0), (7, 20, 0), (33, 29, 0)], 8: [(16, 25, 0), (6, 39, 0), (4, 47, 0)], 13: [(24, 35, 30), (39, 70, 50), (31, 30, 25), (10, 30, 0), (9, 40, 0)], 76: [(32, 80, 50), (68, 72, 30), (66, 130, 100)], 38: [(34, 25, 0), (39, 34, 0)], 10: [(4, 47, 0), (2, 70, 50), (3, 32, 0), (13, 30, 0)], 39: [(37, 32, 0), (13, 70, 50)], 12: [(32, 100, 80), (26, 30, 25), (24, 33, 0), (4, 56, 0)], 14: [(2, 51, 0), (50, 50, 23), (50, 25, 20)], 16: [(56, 30, 0), (32, 100, 50), (26, 45, 0), (8, 25, 0)], 33: [(35, 25, 0), (9, 29, 0)], 32: [(36, 70, 0), (57, 30, 0), (76, 80, 50), (68, 110, 80), (16, 100, 50), (12, 100, 80), (46, 90, 40), (48, 80, 50), (66, 70, 60), (56, 80, 70)], 57: [(32, 30, 0)], 56: [(68, 80, 70), (66, 40, 0), (18, 35, 0), (16, 30, 0), (32, 80, 70)], 37: [(39, 32, 0), (31, 27, 0), (35, 29, 0)], 36: [(32, 70, 0), (26, 34, 0), (34, 25, 0), (46, 80, 40), (48, 100, 80)], 35: [(37, 29, 0), (33, 25, 0)], 34: [(36, 25, 0), (24, 27, 0), (38, 25, 0)], 18: [(56, 35, 0), (54, 20, 10)], 31: [(13, 30, 25), (37, 27, 0)]}\n",
      "---------------\n",
      "Test case 1:\n",
      "Find the shortest-path from Building 32 to 56\n",
      "Expected:  ['32', '56']\n",
      "Brute-force:  ['32', '56']\n",
      "DFS:  ['32', '56']\n",
      "Correct? BFS: True; DFS: True\n"
     ]
    }
   ],
   "source": [
    "# Uncomment below when ready to test\n",
    "#### NOTE! These tests may take a few minutes to run!! ####\n",
    "if __name__ == '__main__':\n",
    "#     Test cases\n",
    "    mitMap = load_map(\"mit_map.txt\")\n",
    "    print isinstance(mitMap, Digraph)\n",
    "    print isinstance(mitMap, WeightedDigraph)\n",
    "    print 'nodes', mitMap.nodes\n",
    "    print 'edges', mitMap.edges\n",
    "\n",
    "\n",
    "    LARGE_DIST = 1000000\n",
    "\n",
    "#     Test case 1\n",
    "    print \"---------------\"\n",
    "    print \"Test case 1:\"\n",
    "    print \"Find the shortest-path from Building 32 to 56\"\n",
    "    expectedPath1 = ['32', '56']\n",
    "    #brutePath1 = bruteForceSearch(mitMap, '32', '56', LARGE_DIST, LARGE_DIST)\n",
    "    dfsPath1 = directedDFS(mitMap, '32', '56', LARGE_DIST, LARGE_DIST)\n",
    "    print \"Expected: \", expectedPath1\n",
    "    print \"Brute-force: \", brutePath1\n",
    "    print \"DFS: \", dfsPath1\n",
    "    print \"Correct? BFS: {0}; DFS: {1}\".format(expectedPath1 == brutePath1, expectedPath1 == dfsPath1)"
   ]
  },
  {
   "cell_type": "code",
   "execution_count": 149,
   "metadata": {
    "collapsed": false
   },
   "outputs": [
    {
     "name": "stdout",
     "output_type": "stream",
     "text": [
      " ---------------\n",
      "Test case 2:\n",
      "Find the shortest-path from Building 32 to 56 without going outdoors\n",
      "Expected:  ['32', '36', '26', '16', '56']\n",
      "DFS:  ['32', '36', '26', '16', '56']\n"
     ]
    },
    {
     "ename": "NameError",
     "evalue": "name 'brutePath2' is not defined",
     "output_type": "error",
     "traceback": [
      "\u001b[1;31m---------------------------------------------------------------------------\u001b[0m",
      "\u001b[1;31mNameError\u001b[0m                                 Traceback (most recent call last)",
      "\u001b[1;32m<ipython-input-149-d3e8c6beb91d>\u001b[0m in \u001b[0;36m<module>\u001b[1;34m()\u001b[0m\n\u001b[0;32m      9\u001b[0m \u001b[1;31m#print \"Brute-force: \", brutePath2\u001b[0m\u001b[1;33m\u001b[0m\u001b[1;33m\u001b[0m\u001b[0m\n\u001b[0;32m     10\u001b[0m \u001b[1;32mprint\u001b[0m \u001b[1;34m\"DFS: \"\u001b[0m\u001b[1;33m,\u001b[0m \u001b[0mdfsPath2\u001b[0m\u001b[1;33m\u001b[0m\u001b[0m\n\u001b[1;32m---> 11\u001b[1;33m \u001b[1;32mprint\u001b[0m \u001b[1;34m\"Correct? BFS: {0}; DFS: {1}\"\u001b[0m\u001b[1;33m.\u001b[0m\u001b[0mformat\u001b[0m\u001b[1;33m(\u001b[0m\u001b[0mexpectedPath2\u001b[0m \u001b[1;33m==\u001b[0m \u001b[0mbrutePath2\u001b[0m\u001b[1;33m,\u001b[0m \u001b[0mexpectedPath2\u001b[0m \u001b[1;33m==\u001b[0m \u001b[0mdfsPath2\u001b[0m\u001b[1;33m)\u001b[0m\u001b[1;33m\u001b[0m\u001b[0m\n\u001b[0m",
      "\u001b[1;31mNameError\u001b[0m: name 'brutePath2' is not defined"
     ]
    }
   ],
   "source": [
    "#     Test case 2\n",
    "print \"---------------\"\n",
    "print \"Test case 2:\"\n",
    "print \"Find the shortest-path from Building 32 to 56 without going outdoors\"\n",
    "expectedPath2 = ['32', '36', '26', '16', '56']\n",
    "#brutePath2 = bruteForceSearch(mitMap, '32', '56', LARGE_DIST, 0)\n",
    "dfsPath2 = directedDFS(mitMap, '32', '56', LARGE_DIST, 0)\n",
    "print \"Expected: \", expectedPath2\n",
    "#print \"Brute-force: \", brutePath2\n",
    "print \"DFS: \", dfsPath2\n",
    "print \"Correct? BFS: {0}; DFS: {1}\".format(expectedPath2 == brutePath2, expectedPath2 == dfsPath2)"
   ]
  },
  {
   "cell_type": "code",
   "execution_count": 150,
   "metadata": {
    "collapsed": false
   },
   "outputs": [
    {
     "name": "stdout",
     "output_type": "stream",
     "text": [
      "---------------\n",
      "Test case 3:\n",
      "Find the shortest-path from Building 2 to 9\n",
      "Expected:  ['2', '3', '7', '9']\n",
      "DFS:  ['2', '3', '7', '9']\n"
     ]
    },
    {
     "ename": "NameError",
     "evalue": "name 'brutePath3' is not defined",
     "output_type": "error",
     "traceback": [
      "\u001b[1;31m---------------------------------------------------------------------------\u001b[0m",
      "\u001b[1;31mNameError\u001b[0m                                 Traceback (most recent call last)",
      "\u001b[1;32m<ipython-input-150-65bcb64232f1>\u001b[0m in \u001b[0;36m<module>\u001b[1;34m()\u001b[0m\n\u001b[0;32m      9\u001b[0m \u001b[1;31m#print \"Brute-force: \", brutePath3\u001b[0m\u001b[1;33m\u001b[0m\u001b[1;33m\u001b[0m\u001b[0m\n\u001b[0;32m     10\u001b[0m \u001b[1;32mprint\u001b[0m \u001b[1;34m\"DFS: \"\u001b[0m\u001b[1;33m,\u001b[0m \u001b[0mdfsPath3\u001b[0m\u001b[1;33m\u001b[0m\u001b[0m\n\u001b[1;32m---> 11\u001b[1;33m \u001b[1;32mprint\u001b[0m \u001b[1;34m\"Correct? BFS: {0}; DFS: {1}\"\u001b[0m\u001b[1;33m.\u001b[0m\u001b[0mformat\u001b[0m\u001b[1;33m(\u001b[0m\u001b[0mexpectedPath3\u001b[0m \u001b[1;33m==\u001b[0m \u001b[0mbrutePath3\u001b[0m\u001b[1;33m,\u001b[0m \u001b[0mexpectedPath3\u001b[0m \u001b[1;33m==\u001b[0m \u001b[0mdfsPath3\u001b[0m\u001b[1;33m)\u001b[0m\u001b[1;33m\u001b[0m\u001b[0m\n\u001b[0m",
      "\u001b[1;31mNameError\u001b[0m: name 'brutePath3' is not defined"
     ]
    }
   ],
   "source": [
    "#     Test case 3\n",
    "print \"---------------\"\n",
    "print \"Test case 3:\"\n",
    "print \"Find the shortest-path from Building 2 to 9\"\n",
    "expectedPath3 = ['2', '3', '7', '9']\n",
    "#brutePath3 = bruteForceSearch(mitMap, '2', '9', LARGE_DIST, LARGE_DIST)\n",
    "dfsPath3 = directedDFS(mitMap, '2', '9', LARGE_DIST, LARGE_DIST)\n",
    "print \"Expected: \", expectedPath3\n",
    "#print \"Brute-force: \", brutePath3\n",
    "print \"DFS: \", dfsPath3\n",
    "print \"Correct? BFS: {0}; DFS: {1}\".format(expectedPath3 == brutePath3, expectedPath3 == dfsPath3)"
   ]
  },
  {
   "cell_type": "code",
   "execution_count": 151,
   "metadata": {
    "collapsed": false
   },
   "outputs": [
    {
     "name": "stdout",
     "output_type": "stream",
     "text": [
      "Test case 4:\n",
      "Find the shortest-path from Building 2 to 9 without going outdoors\n",
      "Expected:  ['2', '4', '10', '13', '9']\n",
      "DFS:  ['2', '4', '10', '13', '9']\n"
     ]
    },
    {
     "ename": "NameError",
     "evalue": "name 'brutePath4' is not defined",
     "output_type": "error",
     "traceback": [
      "\u001b[1;31m---------------------------------------------------------------------------\u001b[0m",
      "\u001b[1;31mNameError\u001b[0m                                 Traceback (most recent call last)",
      "\u001b[1;32m<ipython-input-151-8e6f34c4545b>\u001b[0m in \u001b[0;36m<module>\u001b[1;34m()\u001b[0m\n\u001b[0;32m      8\u001b[0m \u001b[1;31m#print \"Brute-force: \", brutePath4\u001b[0m\u001b[1;33m\u001b[0m\u001b[1;33m\u001b[0m\u001b[0m\n\u001b[0;32m      9\u001b[0m \u001b[1;32mprint\u001b[0m \u001b[1;34m\"DFS: \"\u001b[0m\u001b[1;33m,\u001b[0m \u001b[0mdfsPath4\u001b[0m\u001b[1;33m\u001b[0m\u001b[0m\n\u001b[1;32m---> 10\u001b[1;33m \u001b[1;32mprint\u001b[0m \u001b[1;34m\"Correct? BFS: {0}; DFS: {1}\"\u001b[0m\u001b[1;33m.\u001b[0m\u001b[0mformat\u001b[0m\u001b[1;33m(\u001b[0m\u001b[0mexpectedPath4\u001b[0m \u001b[1;33m==\u001b[0m \u001b[0mbrutePath4\u001b[0m\u001b[1;33m,\u001b[0m \u001b[0mexpectedPath4\u001b[0m \u001b[1;33m==\u001b[0m \u001b[0mdfsPath4\u001b[0m\u001b[1;33m)\u001b[0m\u001b[1;33m\u001b[0m\u001b[0m\n\u001b[0m",
      "\u001b[1;31mNameError\u001b[0m: name 'brutePath4' is not defined"
     ]
    }
   ],
   "source": [
    "#     print \"---------------\"\n",
    "print \"Test case 4:\"\n",
    "print \"Find the shortest-path from Building 2 to 9 without going outdoors\"\n",
    "expectedPath4 = ['2', '4', '10', '13', '9']\n",
    "#brutePath4 = bruteForceSearch(mitMap, '2', '9', LARGE_DIST, 0)\n",
    "dfsPath4 = directedDFS(mitMap, '2', '9', LARGE_DIST, 0)\n",
    "print \"Expected: \", expectedPath4\n",
    "#print \"Brute-force: \", brutePath4\n",
    "print \"DFS: \", dfsPath4\n",
    "print \"Correct? BFS: {0}; DFS: {1}\".format(expectedPath4 == brutePath4, expectedPath4 == dfsPath4)"
   ]
  },
  {
   "cell_type": "code",
   "execution_count": 152,
   "metadata": {
    "collapsed": false
   },
   "outputs": [
    {
     "name": "stdout",
     "output_type": "stream",
     "text": [
      "---------------\n",
      "Test case 5:\n",
      "Find the shortest-path from Building 1 to 32\n",
      "Expected:  ['1', '4', '12', '32']\n",
      "DFS:  ['1', '4', '12', '32']\n"
     ]
    },
    {
     "ename": "NameError",
     "evalue": "name 'brutePath5' is not defined",
     "output_type": "error",
     "traceback": [
      "\u001b[1;31m---------------------------------------------------------------------------\u001b[0m",
      "\u001b[1;31mNameError\u001b[0m                                 Traceback (most recent call last)",
      "\u001b[1;32m<ipython-input-152-2c3e3a6141e3>\u001b[0m in \u001b[0;36m<module>\u001b[1;34m()\u001b[0m\n\u001b[0;32m      9\u001b[0m \u001b[1;31m#print \"Brute-force: \", brutePath5\u001b[0m\u001b[1;33m\u001b[0m\u001b[1;33m\u001b[0m\u001b[0m\n\u001b[0;32m     10\u001b[0m \u001b[1;32mprint\u001b[0m \u001b[1;34m\"DFS: \"\u001b[0m\u001b[1;33m,\u001b[0m \u001b[0mdfsPath5\u001b[0m\u001b[1;33m\u001b[0m\u001b[0m\n\u001b[1;32m---> 11\u001b[1;33m \u001b[1;32mprint\u001b[0m \u001b[1;34m\"Correct? BFS: {0}; DFS: {1}\"\u001b[0m\u001b[1;33m.\u001b[0m\u001b[0mformat\u001b[0m\u001b[1;33m(\u001b[0m\u001b[0mexpectedPath5\u001b[0m \u001b[1;33m==\u001b[0m \u001b[0mbrutePath5\u001b[0m\u001b[1;33m,\u001b[0m \u001b[0mexpectedPath5\u001b[0m \u001b[1;33m==\u001b[0m \u001b[0mdfsPath5\u001b[0m\u001b[1;33m)\u001b[0m\u001b[1;33m\u001b[0m\u001b[0m\n\u001b[0m",
      "\u001b[1;31mNameError\u001b[0m: name 'brutePath5' is not defined"
     ]
    }
   ],
   "source": [
    "#     Test case 5\n",
    "print \"---------------\"\n",
    "print \"Test case 5:\"\n",
    "print \"Find the shortest-path from Building 1 to 32\"\n",
    "expectedPath5 = ['1', '4', '12', '32']\n",
    "#brutePath5 = bruteForceSearch(mitMap, '1', '32', LARGE_DIST, LARGE_DIST)\n",
    "dfsPath5 = directedDFS(mitMap, '1', '32', LARGE_DIST, LARGE_DIST)\n",
    "print \"Expected: \", expectedPath5\n",
    "#print \"Brute-force: \", brutePath5\n",
    "print \"DFS: \", dfsPath5\n",
    "print \"Correct? BFS: {0}; DFS: {1}\".format(expectedPath5 == brutePath5, expectedPath5 == dfsPath5)"
   ]
  },
  {
   "cell_type": "code",
   "execution_count": 153,
   "metadata": {
    "collapsed": false
   },
   "outputs": [
    {
     "name": "stdout",
     "output_type": "stream",
     "text": [
      "---------------\n",
      "Test case 6:\n",
      "Find the shortest-path from Building 1 to 32 without going outdoors\n",
      "Expected:  ['1', '3', '10', '4', '12', '24', '34', '36', '32']\n",
      "DFS:  ['1', '3', '10', '4', '12', '24', '34', '36', '32']\n"
     ]
    },
    {
     "ename": "NameError",
     "evalue": "name 'brutePath6' is not defined",
     "output_type": "error",
     "traceback": [
      "\u001b[1;31m---------------------------------------------------------------------------\u001b[0m",
      "\u001b[1;31mNameError\u001b[0m                                 Traceback (most recent call last)",
      "\u001b[1;32m<ipython-input-153-538c140984ae>\u001b[0m in \u001b[0;36m<module>\u001b[1;34m()\u001b[0m\n\u001b[0;32m      9\u001b[0m \u001b[1;31m#print \"Brute-force: \", brutePath6\u001b[0m\u001b[1;33m\u001b[0m\u001b[1;33m\u001b[0m\u001b[0m\n\u001b[0;32m     10\u001b[0m \u001b[1;32mprint\u001b[0m \u001b[1;34m\"DFS: \"\u001b[0m\u001b[1;33m,\u001b[0m \u001b[0mdfsPath6\u001b[0m\u001b[1;33m\u001b[0m\u001b[0m\n\u001b[1;32m---> 11\u001b[1;33m \u001b[1;32mprint\u001b[0m \u001b[1;34m\"Correct? BFS: {0}; DFS: {1}\"\u001b[0m\u001b[1;33m.\u001b[0m\u001b[0mformat\u001b[0m\u001b[1;33m(\u001b[0m\u001b[0mexpectedPath6\u001b[0m \u001b[1;33m==\u001b[0m \u001b[0mbrutePath6\u001b[0m\u001b[1;33m,\u001b[0m \u001b[0mexpectedPath6\u001b[0m \u001b[1;33m==\u001b[0m \u001b[0mdfsPath6\u001b[0m\u001b[1;33m)\u001b[0m\u001b[1;33m\u001b[0m\u001b[0m\n\u001b[0m",
      "\u001b[1;31mNameError\u001b[0m: name 'brutePath6' is not defined"
     ]
    }
   ],
   "source": [
    "#     Test case 6\n",
    "print \"---------------\"\n",
    "print \"Test case 6:\"\n",
    "print \"Find the shortest-path from Building 1 to 32 without going outdoors\"\n",
    "expectedPath6 = ['1', '3', '10', '4', '12', '24', '34', '36', '32']\n",
    "#brutePath6 = bruteForceSearch(mitMap, '1', '32', LARGE_DIST, 0)\n",
    "dfsPath6 = directedDFS(mitMap, '1', '32', LARGE_DIST, 0)\n",
    "print \"Expected: \", expectedPath6\n",
    "#print \"Brute-force: \", brutePath6\n",
    "print \"DFS: \", dfsPath6\n",
    "print \"Correct? BFS: {0}; DFS: {1}\".format(expectedPath6 == brutePath6, expectedPath6 == dfsPath6)"
   ]
  },
  {
   "cell_type": "code",
   "execution_count": 154,
   "metadata": {
    "collapsed": false
   },
   "outputs": [
    {
     "name": "stdout",
     "output_type": "stream",
     "text": [
      "---------------\n",
      "Test case 7:\n",
      "Find the shortest-path from Building 8 to 50 without going outdoors\n",
      "Expected: No such path! Should throw a value error.\n",
      "Did brute force search raise an error? Yes\n",
      "Did DFS search raise an error? Yes\n"
     ]
    }
   ],
   "source": [
    "#     Test case 7\n",
    "print \"---------------\"\n",
    "print \"Test case 7:\"\n",
    "print \"Find the shortest-path from Building 8 to 50 without going outdoors\"\n",
    "bruteRaisedErr = 'No'\n",
    "dfsRaisedErr = 'No'\n",
    "try:\n",
    "    bruteForceSearch(mitMap, '8', '50', LARGE_DIST, 0)\n",
    "except ValueError:\n",
    "    bruteRaisedErr = 'Yes'\n",
    "\n",
    "try:\n",
    "    directedDFS(mitMap, '8', '50', LARGE_DIST, 0)\n",
    "except ValueError:\n",
    "    dfsRaisedErr = 'Yes'\n",
    "\n",
    "print \"Expected: No such path! Should throw a value error.\"\n",
    "print \"Did brute force search raise an error?\", bruteRaisedErr\n",
    "print \"Did DFS search raise an error?\", dfsRaisedErr"
   ]
  },
  {
   "cell_type": "code",
   "execution_count": 155,
   "metadata": {
    "collapsed": false
   },
   "outputs": [
    {
     "name": "stdout",
     "output_type": "stream",
     "text": [
      "---------------\n",
      "Test case 8:\n",
      "Find the shortest-path from Building 10 to 32 without walking\n",
      "more than 100 meters in total\n",
      "Expected: No such path! Should throw a value error.\n",
      "Did brute force search raise an error? Yes\n",
      "Did DFS search raise an error? Yes\n"
     ]
    }
   ],
   "source": [
    "#     Test case 8\n",
    "print \"---------------\"\n",
    "print \"Test case 8:\"\n",
    "print \"Find the shortest-path from Building 10 to 32 without walking\"\n",
    "print \"more than 100 meters in total\"\n",
    "bruteRaisedErr = 'No'\n",
    "dfsRaisedErr = 'No'\n",
    "try:\n",
    "    bruteForceSearch(mitMap, '10', '32', 100, LARGE_DIST)\n",
    "except ValueError:\n",
    "    bruteRaisedErr = 'Yes'\n",
    "\n",
    "try:\n",
    "    directedDFS(mitMap, '10', '32', 100, LARGE_DIST)\n",
    "except ValueError:\n",
    "    dfsRaisedErr = 'Yes'\n",
    "\n",
    "print \"Expected: No such path! Should throw a value error.\"\n",
    "print \"Did brute force search raise an error?\", bruteRaisedErr\n",
    "print \"Did DFS search raise an error?\", dfsRaisedErr"
   ]
  },
  {
   "cell_type": "markdown",
   "metadata": {},
   "source": [
    "明明这八个测试样例都通过了好吧……算了……"
   ]
  },
  {
   "cell_type": "code",
   "execution_count": null,
   "metadata": {
    "collapsed": true
   },
   "outputs": [],
   "source": []
  }
 ],
 "metadata": {
  "kernelspec": {
   "display_name": "Python 2",
   "language": "python",
   "name": "python2"
  },
  "language_info": {
   "codemirror_mode": {
    "name": "ipython",
    "version": 2
   },
   "file_extension": ".py",
   "mimetype": "text/x-python",
   "name": "python",
   "nbconvert_exporter": "python",
   "pygments_lexer": "ipython2",
   "version": "2.7.11"
  }
 },
 "nbformat": 4,
 "nbformat_minor": 0
}
