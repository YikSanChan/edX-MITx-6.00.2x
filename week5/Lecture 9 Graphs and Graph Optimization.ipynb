{
 "cells": [
  {
   "cell_type": "markdown",
   "metadata": {},
   "source": [
    "### 图的实现"
   ]
  },
  {
   "cell_type": "code",
   "execution_count": 3,
   "metadata": {
    "collapsed": true
   },
   "outputs": [],
   "source": [
    "#simpleGraph.py\n",
    "\n",
    "class Node(object):\n",
    "    def __init__(self, name):\n",
    "        self.name = str(name)\n",
    "    def getName(self):\n",
    "        return self.name\n",
    "    def __str__(self):\n",
    "        return self.name\n",
    "\n",
    "class Edge(object):\n",
    "    def __init__(self, src, dest):\n",
    "        self.src = src\n",
    "        self.dest = dest\n",
    "    def getSource(self):\n",
    "        return self.src\n",
    "    def getDestination(self):\n",
    "        return self.dest\n",
    "    def __str__(self):\n",
    "        return str(self.src) + '->' + str(self.dest)\n",
    "\n",
    "class WeightedEdge(Edge):\n",
    "    def __init__(self, src, dest, weight = 1.0):\n",
    "        self.src = src\n",
    "        self.dest = dest\n",
    "        self.weight = weight\n",
    "    def getWeight(self):\n",
    "        return self.weight\n",
    "    def __str__(self):\n",
    "        return str(self.src) + '->(' + str(self.weight) + ')'\\\n",
    "            + str(self.dest)\n",
    "\n",
    "class Digraph(object):\n",
    "    def __init__(self):\n",
    "        self.nodes = set([])\n",
    "        self.edges = {}\n",
    "    def addNode(self, node):\n",
    "        if node in self.nodes:\n",
    "            raise ValueError('Duplicate node')\n",
    "        else:\n",
    "            self.nodes.add(node)\n",
    "            self.edges[node] = []\n",
    "    def addEdge(self, edge):\n",
    "        src = edge.getSource()\n",
    "        dest = edge.getDestination()\n",
    "        if not(src in self.nodes and dest in self.nodes):\n",
    "            raise ValueError('Node not in graph')\n",
    "        self.edges[src].append(dest)\n",
    "    def childrenOf(self, node):\n",
    "        return self.edges[node]\n",
    "    def hasNode(self, node):\n",
    "        return node in self.nodes\n",
    "    def __str__(self):\n",
    "        res = ''\n",
    "        for k in self.edges:\n",
    "            for d in self.edges[k]:\n",
    "                res = res + str(k) + '->' + str(d) + '\\n'\n",
    "        return res[:-1]\n",
    "\n",
    "class Graph(Digraph):\n",
    "    def addEdge(self, edge):\n",
    "        Digraph.addEdge(self, edge)\n",
    "        rev = Edge(edge.getDestination(), edge.getSource())\n",
    "        Digraph.addEdge(self, rev)\n",
    "\n",
    "\n",
    "def printPath(path):\n",
    "    # a path is a list of nodes\n",
    "    result = ''\n",
    "    for i in range(len(path)):\n",
    "        if i == len(path) - 1:\n",
    "            result = result + str(path[i])\n",
    "        else:\n",
    "            result = result + str(path[i]) + '->'\n",
    "    return result"
   ]
  },
  {
   "cell_type": "markdown",
   "metadata": {},
   "source": [
    "### L9 Problem 2\n",
    "\n",
    "考虑以下问题：\n",
    "\n",
    "- Alice, Bob和Carol站成一行；\n",
    "- 每个顶点是三人的一个排列；\n",
    "- 若两个排列能通过交换两个相邻学生得到，则两个顶点被边连起来\n",
    "\n",
    "要求为图加上合适的边。"
   ]
  },
  {
   "cell_type": "code",
   "execution_count": 85,
   "metadata": {
    "collapsed": false
   },
   "outputs": [],
   "source": [
    "nodes = []\n",
    "nodes.append(Node(\"ABC\")) # nodes[0]\n",
    "nodes.append(Node(\"ACB\")) # nodes[1]\n",
    "nodes.append(Node(\"BAC\")) # nodes[2]\n",
    "nodes.append(Node(\"BCA\")) # nodes[3]\n",
    "nodes.append(Node(\"CAB\")) # nodes[4]\n",
    "nodes.append(Node(\"CBA\")) # nodes[5]\n",
    "\n",
    "g = Graph()\n",
    "for n in nodes:\n",
    "    g.addNode(n)"
   ]
  },
  {
   "cell_type": "markdown",
   "metadata": {},
   "source": [
    "加上合适的边。"
   ]
  },
  {
   "cell_type": "code",
   "execution_count": 86,
   "metadata": {
    "collapsed": false,
    "scrolled": false
   },
   "outputs": [
    {
     "name": "stdout",
     "output_type": "stream",
     "text": [
      "Add: ABC <-> ACB\n",
      "\n",
      "Add: ABC <-> BAC\n",
      "\n",
      "Add: ACB <-> CAB\n",
      "\n",
      "Add: BAC <-> BCA\n",
      "\n",
      "Add: CBA <-> BCA\n",
      "\n",
      "Add: CBA <-> CAB\n",
      "\n"
     ]
    }
   ],
   "source": [
    "d = {}\n",
    "\n",
    "d['ABC'] = ['BAC', 'ACB']\n",
    "d['ACB'] = ['CAB', 'ABC']\n",
    "d['BAC'] = ['ABC', 'BCA']\n",
    "d['BCA'] = ['CBA', 'BAC']\n",
    "d['CAB'] = ['ACB', 'CBA']\n",
    "d['CBA'] = ['BCA', 'CAB']\n",
    "\n",
    "for i in range(6):\n",
    "    nodeName = nodes[i].getName()\n",
    "    #print 'From %s\\n' % nodeName\n",
    "    for j in [k for k in range(5) if k != i]:\n",
    "        otherNodeName = nodes[j].getName()\n",
    "        if otherNodeName in d[nodeName]:\n",
    "            #print 'To %s which has children %s'%(otherNodeName, [n.getName() for n in g.childrenOf(nodes[j])])\n",
    "            if nodeName not in [n.getName() for n in g.childrenOf(nodes[j])]:\n",
    "                print 'Add: %s <-> %s\\n' % (nodeName, nodes[j].getName())\n",
    "                edgeToAdd = Edge(nodes[i], nodes[j])\n",
    "                g.addEdge(edgeToAdd)"
   ]
  },
  {
   "cell_type": "markdown",
   "metadata": {},
   "source": [
    "### 深度优先搜索"
   ]
  },
  {
   "cell_type": "code",
   "execution_count": 2,
   "metadata": {
    "collapsed": false
   },
   "outputs": [],
   "source": [
    "from simpleGraph import *\n",
    "\n",
    "def DFS(graph, start, end, path = [], shortest = None):\n",
    "    #assumes graph is a Digraph\n",
    "    #assumes start and end are nodes in graph\n",
    "    path = path + [start]\n",
    "    print 'Current dfs path:', printPath(path)\n",
    "    if start == end:\n",
    "        return path\n",
    "    for node in graph.childrenOf(start):\n",
    "        if node not in path: #avoid cycles\n",
    "            newPath = DFS(graph,node,end,path,shortest)\n",
    "            if newPath != None:\n",
    "                return newPath\n",
    "\n",
    "def testSP():\n",
    "    nodes = []\n",
    "    for name in range(6):\n",
    "        nodes.append(Node(str(name)))\n",
    "    g = Digraph()\n",
    "    for n in nodes:\n",
    "        g.addNode(n)\n",
    "    g.addEdge(Edge(nodes[0],nodes[1]))\n",
    "    g.addEdge(Edge(nodes[1],nodes[2]))\n",
    "    g.addEdge(Edge(nodes[2],nodes[3]))\n",
    "    g.addEdge(Edge(nodes[2],nodes[4]))\n",
    "    g.addEdge(Edge(nodes[3],nodes[4]))\n",
    "    g.addEdge(Edge(nodes[3],nodes[5]))\n",
    "    g.addEdge(Edge(nodes[0],nodes[2]))\n",
    "    g.addEdge(Edge(nodes[1],nodes[0]))\n",
    "    g.addEdge(Edge(nodes[3],nodes[1]))\n",
    "    g.addEdge(Edge(nodes[4],nodes[0]))\n",
    "    sp = DFS(g, nodes[0], nodes[5])\n",
    "    print 'Shortest path found by DFS:', printPath(sp)"
   ]
  },
  {
   "cell_type": "code",
   "execution_count": 3,
   "metadata": {
    "collapsed": false
   },
   "outputs": [
    {
     "name": "stdout",
     "output_type": "stream",
     "text": [
      "Current dfs path: 0\n",
      "Current dfs path: 0->1\n",
      "Current dfs path: 0->1->2\n",
      "Current dfs path: 0->1->2->3\n",
      "Current dfs path: 0->1->2->3->4\n",
      "Current dfs path: 0->1->2->3->5\n",
      "Shortest path found by DFS: 0->1->2->3->5\n"
     ]
    }
   ],
   "source": [
    "testSP()"
   ]
  },
  {
   "cell_type": "markdown",
   "metadata": {},
   "source": [
    "假定有如下连接设定：\n",
    "\n",
    "- [0]<->[1,2]\n",
    "- [1]<->[2,0]\n",
    "- [2]<->[3,4]\n",
    "- [3]<->[4,5,1]\n",
    "- [4]<->[0]\n",
    "- [5]<->[ ]\n",
    "\n",
    "简要分析：\n",
    "\n",
    "- 0\n",
    "- 0 -> 1\n",
    "- 0 -> 1 -> 2\n",
    "- 0 -> 1 -> 2 -> 3\n",
    "- 0 -> 1 -> 2 -> 3 -> 4 (无路可走，因4的next节点0已被走过)\n",
    "- 0 -> 1 -> 2 -> 3 -> 5 (回到节点3，走下一可能节点5，到达目的)\n",
    "\n",
    "可以看出，`DFS`函数只是通过深度优先原则，取出第一条可能路径。而我们很快看到，`DFSShortest`才能得到我想要的结果。"
   ]
  },
  {
   "cell_type": "code",
   "execution_count": 14,
   "metadata": {
    "collapsed": false
   },
   "outputs": [],
   "source": [
    "def DFSShortest(graph, start, end, path = [], shortest = None):\n",
    "    #assumes graph is a Digraph\n",
    "    #assumes start and end are nodes in graph\n",
    "    path = path + [start]\n",
    "    print \"================================\"\n",
    "    print 'Current dfs path:', printPath(path)\n",
    "    if shortest != None:\n",
    "        print \"Current shortest path\", printPath(shortest)\n",
    "    if start == end:\n",
    "        return path\n",
    "    for node in graph.childrenOf(start):\n",
    "        if node not in path: #avoid cycles\n",
    "            if shortest == None or len(path)<len(shortest):\n",
    "                newPath = DFSShortest(graph,node,end,path,shortest)\n",
    "                if newPath != None and newPath != shortest:\n",
    "                    #找到的newPath很可能还是现在的shortestPath，毕竟上一行中DFSShortest函数的返回值就是shortest\n",
    "                    #因此，感觉有点低效，应该有提升空间\n",
    "                    shortest = newPath\n",
    "    return shortest"
   ]
  },
  {
   "cell_type": "code",
   "execution_count": 15,
   "metadata": {
    "collapsed": false
   },
   "outputs": [
    {
     "name": "stdout",
     "output_type": "stream",
     "text": [
      "================================\n",
      "Current dfs path: 0\n",
      "================================\n",
      "Current dfs path: 0->1\n",
      "================================\n",
      "Current dfs path: 0->1->2\n",
      "================================\n",
      "Current dfs path: 0->1->2->3\n",
      "================================\n",
      "Current dfs path: 0->1->2->3->4\n",
      "================================\n",
      "Current dfs path: 0->1->2->3->5\n",
      "================================\n",
      "Current dfs path: 0->1->2->4\n",
      "Current shortest path 0->1->2->3->5\n",
      "================================\n",
      "Current dfs path: 0->2\n",
      "Current shortest path 0->1->2->3->5\n",
      "================================\n",
      "Current dfs path: 0->2->3\n",
      "Current shortest path 0->1->2->3->5\n",
      "================================\n",
      "Current dfs path: 0->2->3->4\n",
      "Current shortest path 0->1->2->3->5\n",
      "================================\n",
      "Current dfs path: 0->2->3->5\n",
      "Current shortest path 0->1->2->3->5\n",
      "================================\n",
      "Current dfs path: 0->2->3->1\n",
      "Current shortest path 0->2->3->5\n",
      "================================\n",
      "Current dfs path: 0->2->4\n",
      "Current shortest path 0->2->3->5\n",
      "Shortest path found by DFS: 0->2->3->5\n"
     ]
    }
   ],
   "source": [
    "def testSP1():\n",
    "    nodes = []\n",
    "    for name in range(6):\n",
    "        nodes.append(Node(str(name)))\n",
    "    g = Digraph()\n",
    "    for n in nodes:\n",
    "        g.addNode(n)\n",
    "    g.addEdge(Edge(nodes[0],nodes[1]))\n",
    "    g.addEdge(Edge(nodes[1],nodes[2]))\n",
    "    g.addEdge(Edge(nodes[2],nodes[3]))\n",
    "    g.addEdge(Edge(nodes[2],nodes[4]))\n",
    "    g.addEdge(Edge(nodes[3],nodes[4]))\n",
    "    g.addEdge(Edge(nodes[3],nodes[5]))\n",
    "    g.addEdge(Edge(nodes[0],nodes[2]))\n",
    "    g.addEdge(Edge(nodes[1],nodes[0]))\n",
    "    g.addEdge(Edge(nodes[3],nodes[1]))\n",
    "    g.addEdge(Edge(nodes[4],nodes[0]))\n",
    "    sp = DFSShortest(g, nodes[0], nodes[5])\n",
    "    print 'Shortest path found by DFS:', printPath(sp)\n",
    "\n",
    "testSP1()"
   ]
  },
  {
   "cell_type": "markdown",
   "metadata": {},
   "source": [
    "过程分析：\n",
    "\n",
    "- (0, 5, [], None)\n",
    "- (1, 5, [0], None)\n",
    "- (2, 5, [0, 1], None)\n",
    "- (3, 5, [0, 1, 2], None)\n",
    "- (4, 5, [0, 1, 2, 3], None)=>走不动，回退\n",
    "- (5, 5, [0, 1, 2, 3], None)=>更新shortest\n",
    "- (4, 5, [0, 1, 2], [0, 1, 2, 3, 5])=>走不动，回退\n",
    "- (2, 5, [0], [0, 1, 2, 3, 5])\n",
    "- (3, 5, [0, 2], [0, 1, 2, 3, 5])\n",
    "- (4, 5, [0, 2, 3], [0, 1, 2, 3, 5])=>走不动，回退\n",
    "- (5, 5, [0, 2, 3], [0, 1, 2, 3, 5])=>更新shortest"
   ]
  },
  {
   "cell_type": "markdown",
   "metadata": {},
   "source": [
    "求出所有从起点到终点的路径，作为对编程作业的帮助。先创建如上的图。"
   ]
  },
  {
   "cell_type": "code",
   "execution_count": 16,
   "metadata": {
    "collapsed": true
   },
   "outputs": [],
   "source": [
    "nodes = []\n",
    "for name in range(6):\n",
    "    nodes.append(Node(str(name)))\n",
    "g = Digraph()\n",
    "for n in nodes:\n",
    "    g.addNode(n)\n",
    "g.addEdge(Edge(nodes[0],nodes[1]))\n",
    "g.addEdge(Edge(nodes[1],nodes[2]))\n",
    "g.addEdge(Edge(nodes[2],nodes[3]))\n",
    "g.addEdge(Edge(nodes[2],nodes[4]))\n",
    "g.addEdge(Edge(nodes[3],nodes[4]))\n",
    "g.addEdge(Edge(nodes[3],nodes[5]))\n",
    "g.addEdge(Edge(nodes[0],nodes[2]))\n",
    "g.addEdge(Edge(nodes[1],nodes[0]))\n",
    "g.addEdge(Edge(nodes[3],nodes[1]))\n",
    "g.addEdge(Edge(nodes[4],nodes[0]))"
   ]
  },
  {
   "cell_type": "code",
   "execution_count": 17,
   "metadata": {
    "collapsed": false
   },
   "outputs": [
    {
     "name": "stdout",
     "output_type": "stream",
     "text": [
      "0->1->2->3->5\n",
      "0->2->3->5\n"
     ]
    }
   ],
   "source": [
    "paths = []\n",
    "\n",
    "def getPath(graph, start, end, path = []):\n",
    "    path = path + [start]\n",
    "    #print 'Current dfs path:', printPath(path)\n",
    "    if start == end:\n",
    "        paths.append(path)\n",
    "    for node in graph.childrenOf(start):\n",
    "        if node not in path: \n",
    "            getPath(graph, node, end, path)\n",
    "\n",
    "getPath(g, nodes[0], nodes[5])\n",
    "\n",
    "for path in paths:\n",
    "    print printPath(path)"
   ]
  },
  {
   "cell_type": "markdown",
   "metadata": {},
   "source": [
    "### 宽度优先搜索\n"
   ]
  },
  {
   "cell_type": "code",
   "execution_count": 146,
   "metadata": {
    "collapsed": false
   },
   "outputs": [],
   "source": [
    "from simpleGraph import *\n",
    "\n",
    "def BFS(graph, start, end, q = []):\n",
    "    initPath = [start]\n",
    "    q.append(initPath)\n",
    "    while len(q) != 0:\n",
    "        tmpPath = q.pop(0)\n",
    "        lastNode = tmpPath[len(tmpPath) - 1]\n",
    "        print 'Current dequeued path:', printPath(tmpPath)\n",
    "        if lastNode == end:\n",
    "            return tmpPath\n",
    "        for linkNode in graph.childrenOf(lastNode):\n",
    "            if linkNode not in tmpPath:\n",
    "                newPath = tmpPath + [linkNode]\n",
    "                q.append(newPath)\n",
    "    return None"
   ]
  },
  {
   "cell_type": "markdown",
   "metadata": {},
   "source": [
    "假定有如下连接设定：\n",
    "\n",
    "- [0]<->[1,2]\n",
    "- [1]<->[2,0]\n",
    "- [2]<->[3,4]\n",
    "- [3]<->[4,5,1]\n",
    "- [4]<->[0]\n",
    "- [5]<->[ ]\n",
    "\n",
    "实时跟踪双向队列的情况：\n",
    "\n",
    "- [ [0], ]\n",
    "- [ [0,1], [0,2] ]\n",
    "- [ [0,1,2], [0,2,3], [0,2,4] ]\n",
    "- [ [0,1,2,3], [0,1,2,4], [0,2,3,4], [0,2,3,5] ]\n",
    "\n",
    "下面用程序验证我的分析。"
   ]
  },
  {
   "cell_type": "code",
   "execution_count": 147,
   "metadata": {
    "collapsed": false
   },
   "outputs": [
    {
     "name": "stdout",
     "output_type": "stream",
     "text": [
      "Current dequeued path: 0\n",
      "Current dequeued path: 0->1\n",
      "Current dequeued path: 0->2\n",
      "Current dequeued path: 0->1->2\n",
      "Current dequeued path: 0->2->3\n",
      "Current dequeued path: 0->2->4\n",
      "Current dequeued path: 0->1->2->3\n",
      "Current dequeued path: 0->1->2->4\n",
      "Current dequeued path: 0->2->3->4\n",
      "Current dequeued path: 0->2->3->5\n",
      "Shortest path found by DFS: 0->2->3->5\n"
     ]
    }
   ],
   "source": [
    "def test():\n",
    "    nodes = []\n",
    "    for name in range(6):\n",
    "        nodes.append(Node(str(name)))\n",
    "    g = Digraph()\n",
    "    for n in nodes:\n",
    "        g.addNode(n)\n",
    "    g.addEdge(Edge(nodes[0],nodes[1]))\n",
    "    g.addEdge(Edge(nodes[1],nodes[0]))\n",
    "    g.addEdge(Edge(nodes[2],nodes[3]))\n",
    "    g.addEdge(Edge(nodes[2],nodes[4]))\n",
    "    g.addEdge(Edge(nodes[3],nodes[4]))\n",
    "    g.addEdge(Edge(nodes[3],nodes[5]))\n",
    "    g.addEdge(Edge(nodes[0],nodes[2]))\n",
    "    g.addEdge(Edge(nodes[1],nodes[2]))\n",
    "    g.addEdge(Edge(nodes[3],nodes[1]))\n",
    "    g.addEdge(Edge(nodes[4],nodes[0]))\n",
    "    sp = BFS(g, nodes[0], nodes[5])\n",
    "    print 'Shortest path found by DFS:', printPath(sp)\n",
    "    \n",
    "test()"
   ]
  },
  {
   "cell_type": "markdown",
   "metadata": {},
   "source": [
    "### L9 Problem 7"
   ]
  },
  {
   "cell_type": "code",
   "execution_count": null,
   "metadata": {
    "collapsed": true
   },
   "outputs": [],
   "source": [
    "class WeightedEdge(Edge):\n",
    "    def __init__(self, src, dest, weight = 1.0):\n",
    "        self.src = src\n",
    "        self.dest = dest\n",
    "        self.weight = weight\n",
    "    def getWeight(self):\n",
    "        return self.weight\n",
    "    def __str__(self):\n",
    "        return str(self.src) + '->' + str(self.dest) + ' (' + str(self.weight) + ')'"
   ]
  },
  {
   "cell_type": "code",
   "execution_count": null,
   "metadata": {
    "collapsed": true
   },
   "outputs": [],
   "source": []
  }
 ],
 "metadata": {
  "kernelspec": {
   "display_name": "Python 2",
   "language": "python",
   "name": "python2"
  },
  "language_info": {
   "codemirror_mode": {
    "name": "ipython",
    "version": 2
   },
   "file_extension": ".py",
   "mimetype": "text/x-python",
   "name": "python",
   "nbconvert_exporter": "python",
   "pygments_lexer": "ipython2",
   "version": "2.7.11"
  }
 },
 "nbformat": 4,
 "nbformat_minor": 0
}
