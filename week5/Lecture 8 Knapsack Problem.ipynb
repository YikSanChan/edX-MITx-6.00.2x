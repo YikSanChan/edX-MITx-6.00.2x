{
 "cells": [
  {
   "cell_type": "markdown",
   "metadata": {},
   "source": [
    "### 背包问题\n",
    "\n",
    "#### 1. 贪心算法\n",
    "\n",
    "挑选价值密度高的商品是一个很直观的比较好的选择。"
   ]
  },
  {
   "cell_type": "code",
   "execution_count": 4,
   "metadata": {
    "collapsed": true
   },
   "outputs": [],
   "source": [
    "import pylab\n",
    "\n",
    "class Item(object):\n",
    "    def __init__(self, n, v, w):\n",
    "        self.name = n\n",
    "        self.value = float(v)\n",
    "        self.weight = float(w)\n",
    "    def getName(self):\n",
    "        return self.name\n",
    "    def getValue(self):\n",
    "        return self.value\n",
    "    def getWeight(self):\n",
    "        return self.weight\n",
    "    def __str__(self):\n",
    "        result = '<' + self.name + ', ' + str(self.value) + ', '\\\n",
    "                 + str(self.weight) + '>'\n",
    "        return result\n",
    "\n",
    "#建立物品序列\n",
    "def buildItems():\n",
    "    names = ['clock', 'painting', 'radio', 'vase', 'book',\n",
    "             'computer']\n",
    "    vals = [175,90,20,50,10,200]\n",
    "    weights = [10,9,4,2,1,20]\n",
    "    Items = []\n",
    "    for i in range(len(vals)):\n",
    "        Items.append(Item(names[i], vals[i], weights[i]))\n",
    "    return Items\n",
    "\n",
    "#贪心算法主函数\n",
    "def greedy(Items, maxWeight, keyFcn):\n",
    "    assert type(Items) == list and maxWeight >= 0#测试，确保Items是list，最大可装载量非负\n",
    "    ItemsCopy = sorted(Items, key=keyFcn, reverse = True)#该排序规则下，最经济的物品排在最前\n",
    "    result = []\n",
    "    totalVal = 0.0\n",
    "    totalWeight = 0.0\n",
    "    i = 0#基于i进行循环，尽可能多地装入经济的物品\n",
    "    while totalWeight < maxWeight and i < len(Items):#加入物品i后，数量和重量均有空间\n",
    "        if (totalWeight + ItemsCopy[i].getWeight()) <= maxWeight:\n",
    "            result.append((ItemsCopy[i]))\n",
    "            totalWeight += ItemsCopy[i].getWeight()\n",
    "            totalVal += ItemsCopy[i].getValue()\n",
    "        i += 1\n",
    "    return (result, totalVal)\n",
    "\n",
    "def value(item):\n",
    "    return item.getValue()\n",
    "\n",
    "def weightInverse(item):\n",
    "    return 1.0/item.getWeight()\n",
    "\n",
    "def density(item):#价值密度\n",
    "    return item.getValue()/item.getWeight()\n",
    "\n",
    "def testGreedy(Items, constraint, getKey):\n",
    "    taken, val = greedy(Items, constraint, getKey)\n",
    "    print ('Total value of items taken = ' + str(val))\n",
    "    for item in taken:\n",
    "        print '  ', item\n",
    "        \n",
    "def testGreedys(maxWeight = 20):\n",
    "    Items = buildItems()\n",
    "    print('Items to choose from:')\n",
    "    for item in Items:\n",
    "        print '  ', item\n",
    "    print 'Use greedy by value to fill a knapsack of size', maxWeight\n",
    "    testGreedy(Items, maxWeight, value)#选值钱的\n",
    "    print 'Use greedy by weight to fill a knapsack of size', maxWeight\n",
    "    testGreedy(Items, maxWeight, weightInverse)#选轻的\n",
    "    print 'Use greedy by density to fill a knapsack of size', maxWeight\n",
    "    testGreedy(Items, maxWeight, density)#选价值密度高的    "
   ]
  },
  {
   "cell_type": "code",
   "execution_count": 5,
   "metadata": {
    "collapsed": false
   },
   "outputs": [
    {
     "name": "stdout",
     "output_type": "stream",
     "text": [
      "Items to choose from:\n",
      "   <clock, 175.0, 10.0>\n",
      "   <painting, 90.0, 9.0>\n",
      "   <radio, 20.0, 4.0>\n",
      "   <vase, 50.0, 2.0>\n",
      "   <book, 10.0, 1.0>\n",
      "   <computer, 200.0, 20.0>\n",
      "Use greedy by value to fill a knapsack of size 20\n",
      "Total value of items taken = 200.0\n",
      "   <computer, 200.0, 20.0>\n",
      "Use greedy by weight to fill a knapsack of size 20\n",
      "Total value of items taken = 170.0\n",
      "   <book, 10.0, 1.0>\n",
      "   <vase, 50.0, 2.0>\n",
      "   <radio, 20.0, 4.0>\n",
      "   <painting, 90.0, 9.0>\n",
      "Use greedy by density to fill a knapsack of size 20\n",
      "Total value of items taken = 255.0\n",
      "   <vase, 50.0, 2.0>\n",
      "   <clock, 175.0, 10.0>\n",
      "   <book, 10.0, 1.0>\n",
      "   <radio, 20.0, 4.0>\n"
     ]
    }
   ],
   "source": [
    "testGreedys()"
   ]
  },
  {
   "cell_type": "markdown",
   "metadata": {},
   "source": [
    "然而，同样很直观地，这一选择太过随意，实际上它很可能不是最优的。要挑选出最优的物品集，一种绝对无遗漏且保证正确的方法便是生成所有可能的物品集，并从中选出最好的。这依赖于一种可以高效生成和存储可能物品集的机制。通常，1和0可以表示两种状态。在此用1和0表示“选”和“没选”该物品，自然地，物品集能被表示为二进制数，即0和1的序列。\n",
    "\n",
    "#### 2. 暴力方法"
   ]
  },
  {
   "cell_type": "code",
   "execution_count": 43,
   "metadata": {
    "collapsed": true
   },
   "outputs": [],
   "source": [
    "def dToB(n, numDigits):\n",
    "    \"\"\"requires: n is a natural number less than 2**numDigits\n",
    "      returns a binary string of length numDigits representing the\n",
    "              the decimal number n.\"\"\"\n",
    "    assert type(n)==int and type(numDigits)==int and n >=0 and n < 2**numDigits\n",
    "    bStr = ''\n",
    "    while n > 0:\n",
    "        bStr = str(n % 2) + bStr\n",
    "        n = n//2\n",
    "    while numDigits - len(bStr) > 0:\n",
    "        bStr = '0' + bStr\n",
    "    return bStr\n",
    "\n",
    "def genPset(Items):\n",
    "    \"\"\"Generate a list of lists representing the power set of Items\"\"\"\n",
    "    numSubsets = 2**len(Items)\n",
    "    templates = []\n",
    "    for i in range(numSubsets):\n",
    "        templates.append(dToB(i, len(Items)))\n",
    "    pset = []\n",
    "    for t in templates:\n",
    "        elem = []\n",
    "        for j in range(len(t)):\n",
    "            if t[j] == '1':\n",
    "                elem.append(Items[j])\n",
    "        pset.append(elem)\n",
    "    return pset\n",
    "\n",
    "def chooseBest(pset, constraint, getVal, getWeight):\n",
    "    bestVal = 0.0\n",
    "    bestSet = None\n",
    "    for Items in pset:\n",
    "        ItemsVal = 0.0\n",
    "        ItemsWeight = 0.0\n",
    "        for item in Items:\n",
    "            ItemsVal += getVal(item)\n",
    "            ItemsWeight += getWeight(item)\n",
    "        if ItemsWeight <= constraint and ItemsVal > bestVal:\n",
    "            bestVal = ItemsVal\n",
    "            bestSet = Items\n",
    "    return (bestSet, bestVal)\n",
    "\n",
    "def testBest():\n",
    "    Items = buildItems()\n",
    "    pset = genPset(Items)\n",
    "    taken, val = chooseBest(pset, 20, Item.getValue, Item.getWeight)\n",
    "    print ('Total value of items taken = ' + str(val))\n",
    "    for item in taken:\n",
    "        print '  ', item"
   ]
  },
  {
   "cell_type": "markdown",
   "metadata": {},
   "source": [
    "逐个函数考察。显然`dToB`将整数转化为二进制表达。"
   ]
  },
  {
   "cell_type": "code",
   "execution_count": 20,
   "metadata": {
    "collapsed": false
   },
   "outputs": [
    {
     "data": {
      "text/plain": [
       "'0010000000'"
      ]
     },
     "execution_count": 20,
     "metadata": {},
     "output_type": "execute_result"
    }
   ],
   "source": [
    "dToB(128,10)"
   ]
  },
  {
   "cell_type": "markdown",
   "metadata": {},
   "source": [
    "`genPset`生成一个列表，列表中的每一个元素也是一个列表，该列表内装着几个物品（的地址）。显然，`genPset`和`dToB`共同使得“对物品的选择”得以用一个二进制序列的形式便捷地存储，其中`genPset`函数体的前半部分很便捷地生成了类似于物品“全排列”的东西。"
   ]
  },
  {
   "cell_type": "code",
   "execution_count": 26,
   "metadata": {
    "collapsed": false
   },
   "outputs": [
    {
     "data": {
      "text/plain": [
       "[<__main__.Item at 0x3f00588>,\n",
       " <__main__.Item at 0x3f00b38>,\n",
       " <__main__.Item at 0x3f00c50>]"
      ]
     },
     "execution_count": 26,
     "metadata": {},
     "output_type": "execute_result"
    }
   ],
   "source": [
    "genPset(buildItems())[7]"
   ]
  },
  {
   "cell_type": "code",
   "execution_count": 27,
   "metadata": {
    "collapsed": false
   },
   "outputs": [
    {
     "name": "stdout",
     "output_type": "stream",
     "text": [
      "<vase, 50.0, 2.0>\n",
      "<book, 10.0, 1.0>\n",
      "<computer, 200.0, 20.0>\n"
     ]
    }
   ],
   "source": [
    "for item in genPset(buildItems())[7]:\n",
    "    print item"
   ]
  },
  {
   "cell_type": "markdown",
   "metadata": {},
   "source": [
    "`chooseBest`函数十分直观。遍历物品集列表，选出最好的。由`testBest`负责结果的输出。"
   ]
  },
  {
   "cell_type": "code",
   "execution_count": 28,
   "metadata": {
    "collapsed": false
   },
   "outputs": [
    {
     "name": "stdout",
     "output_type": "stream",
     "text": [
      "Total value of items taken = 275.0\n",
      "   <clock, 175.0, 10.0>\n",
      "   <painting, 90.0, 9.0>\n",
      "   <book, 10.0, 1.0>\n"
     ]
    }
   ],
   "source": [
    "testBest()"
   ]
  },
  {
   "cell_type": "markdown",
   "metadata": {},
   "source": [
    "产生幂集是很费时的（2^n）。是否有办法不扫全表？可以用递归。\n",
    "\n",
    "#### 3. 递归方法（决策树）\n",
    "\n",
    "决策树的思路如下：对于某一物品，只有两种选择：带与不带。比较带上该物品时的最优情况与不带上该物品时的最优情况，能保证得出正确的解。"
   ]
  },
  {
   "cell_type": "code",
   "execution_count": 30,
   "metadata": {
    "collapsed": true
   },
   "outputs": [],
   "source": [
    "def maxVal(toConsider, avail): \n",
    "    if toConsider == [] or avail == 0:\n",
    "        result = (0, ())\n",
    "    elif toConsider[0].getWeight() > avail:\n",
    "        result = maxVal(toConsider[1:], avail)\n",
    "    else:\n",
    "        nextItem = toConsider[0]\n",
    "\n",
    "        #Explore left branch\n",
    "        #带上该物品\n",
    "        withVal, withToTake = maxVal(toConsider[1:],\n",
    "                                      avail - nextItem.getWeight())\n",
    "        withVal += nextItem.getValue()\n",
    "        #Explore right branch\n",
    "        #不带上该物品\n",
    "        withoutVal, withoutToTake = maxVal(toConsider[1:], avail)\n",
    "\n",
    "        #Choose better branch\n",
    "        #比较两种选择\n",
    "        if withVal > withoutVal:\n",
    "            result = (withVal, withToTake + (nextItem,))\n",
    "        else:\n",
    "            result = (withoutVal, withoutToTake)\n",
    "    return result\n",
    "\n",
    "def smallTest():\n",
    "    Items = buildItems()\n",
    "    val, taken = maxVal(Items, 20)\n",
    "    for item in taken:\n",
    "        print(item)\n",
    "    print ('Total value of items taken = ' + str(val))"
   ]
  },
  {
   "cell_type": "code",
   "execution_count": 31,
   "metadata": {
    "collapsed": false
   },
   "outputs": [
    {
     "name": "stdout",
     "output_type": "stream",
     "text": [
      "<book, 10.0, 1.0>\n",
      "<painting, 90.0, 9.0>\n",
      "<clock, 175.0, 10.0>\n",
      "Total value of items taken = 275.0\n"
     ]
    }
   ],
   "source": [
    "smallTest()"
   ]
  },
  {
   "cell_type": "markdown",
   "metadata": {},
   "source": [
    "### L8 Problem 2"
   ]
  },
  {
   "cell_type": "code",
   "execution_count": 41,
   "metadata": {
    "collapsed": false
   },
   "outputs": [
    {
     "name": "stdout",
     "output_type": "stream",
     "text": [
      "<Computer, 30.0, 10.0>\n"
     ]
    }
   ],
   "source": [
    "names = ['Dirt', 'Computer', 'Fork', 'Problem Set']\n",
    "vals = [0, 30, 1, -10]\n",
    "weights = [4, 10, 5, 0]\n",
    "Items = []\n",
    "for i in range(len(vals)):\n",
    "    Items.append(Item(names[i], vals[i], weights[i]))\n",
    "val, taken = maxVal(Items, 14)\n",
    "for item in taken:\n",
    "    print item"
   ]
  },
  {
   "cell_type": "code",
   "execution_count": 42,
   "metadata": {
    "collapsed": false
   },
   "outputs": [
    {
     "name": "stdout",
     "output_type": "stream",
     "text": [
      "Use greedy by value to fill a knapsack of size 14\n",
      "Total value of items taken = 30.0\n",
      "   <Computer, 30.0, 10.0>\n",
      "   <Dirt, 0.0, 4.0>\n",
      "Use greedy by weight to fill a knapsack of size 14\n",
      "Total value of items taken = -9.0\n",
      "   <Problem Set, -10.0, 0.0>\n",
      "   <Dirt, 0.0, 4.0>\n",
      "   <Fork, 1.0, 5.0>\n",
      "Use greedy by density to fill a knapsack of size 14\n"
     ]
    },
    {
     "ename": "ZeroDivisionError",
     "evalue": "float division by zero",
     "output_type": "error",
     "traceback": [
      "\u001b[1;31m---------------------------------------------------------------------------\u001b[0m",
      "\u001b[1;31mZeroDivisionError\u001b[0m                         Traceback (most recent call last)",
      "\u001b[1;32m<ipython-input-42-3f547831976c>\u001b[0m in \u001b[0;36m<module>\u001b[1;34m()\u001b[0m\n\u001b[0;32m      7\u001b[0m \u001b[0mtestGreedy\u001b[0m\u001b[1;33m(\u001b[0m\u001b[0mItems\u001b[0m\u001b[1;33m,\u001b[0m \u001b[0mmaxWeight\u001b[0m\u001b[1;33m,\u001b[0m \u001b[0mweightInverse\u001b[0m\u001b[1;33m)\u001b[0m\u001b[1;31m#选轻的\u001b[0m\u001b[1;33m\u001b[0m\u001b[0m\n\u001b[0;32m      8\u001b[0m \u001b[1;32mprint\u001b[0m \u001b[1;34m'Use greedy by density to fill a knapsack of size'\u001b[0m\u001b[1;33m,\u001b[0m \u001b[0mmaxWeight\u001b[0m\u001b[1;33m\u001b[0m\u001b[0m\n\u001b[1;32m----> 9\u001b[1;33m \u001b[0mtestGreedy\u001b[0m\u001b[1;33m(\u001b[0m\u001b[0mItems\u001b[0m\u001b[1;33m,\u001b[0m \u001b[0mmaxWeight\u001b[0m\u001b[1;33m,\u001b[0m \u001b[0mdensity\u001b[0m\u001b[1;33m)\u001b[0m\u001b[1;31m#选价值密度高的\u001b[0m\u001b[1;33m\u001b[0m\u001b[0m\n\u001b[0m",
      "\u001b[1;32m<ipython-input-4-3a80cbc18806>\u001b[0m in \u001b[0;36mtestGreedy\u001b[1;34m(Items, constraint, getKey)\u001b[0m\n\u001b[0;32m     53\u001b[0m \u001b[1;33m\u001b[0m\u001b[0m\n\u001b[0;32m     54\u001b[0m \u001b[1;32mdef\u001b[0m \u001b[0mtestGreedy\u001b[0m\u001b[1;33m(\u001b[0m\u001b[0mItems\u001b[0m\u001b[1;33m,\u001b[0m \u001b[0mconstraint\u001b[0m\u001b[1;33m,\u001b[0m \u001b[0mgetKey\u001b[0m\u001b[1;33m)\u001b[0m\u001b[1;33m:\u001b[0m\u001b[1;33m\u001b[0m\u001b[0m\n\u001b[1;32m---> 55\u001b[1;33m     \u001b[0mtaken\u001b[0m\u001b[1;33m,\u001b[0m \u001b[0mval\u001b[0m \u001b[1;33m=\u001b[0m \u001b[0mgreedy\u001b[0m\u001b[1;33m(\u001b[0m\u001b[0mItems\u001b[0m\u001b[1;33m,\u001b[0m \u001b[0mconstraint\u001b[0m\u001b[1;33m,\u001b[0m \u001b[0mgetKey\u001b[0m\u001b[1;33m)\u001b[0m\u001b[1;33m\u001b[0m\u001b[0m\n\u001b[0m\u001b[0;32m     56\u001b[0m     \u001b[1;32mprint\u001b[0m \u001b[1;33m(\u001b[0m\u001b[1;34m'Total value of items taken = '\u001b[0m \u001b[1;33m+\u001b[0m \u001b[0mstr\u001b[0m\u001b[1;33m(\u001b[0m\u001b[0mval\u001b[0m\u001b[1;33m)\u001b[0m\u001b[1;33m)\u001b[0m\u001b[1;33m\u001b[0m\u001b[0m\n\u001b[0;32m     57\u001b[0m     \u001b[1;32mfor\u001b[0m \u001b[0mitem\u001b[0m \u001b[1;32min\u001b[0m \u001b[0mtaken\u001b[0m\u001b[1;33m:\u001b[0m\u001b[1;33m\u001b[0m\u001b[0m\n",
      "\u001b[1;32m<ipython-input-4-3a80cbc18806>\u001b[0m in \u001b[0;36mgreedy\u001b[1;34m(Items, maxWeight, keyFcn)\u001b[0m\n\u001b[0;32m     30\u001b[0m \u001b[1;32mdef\u001b[0m \u001b[0mgreedy\u001b[0m\u001b[1;33m(\u001b[0m\u001b[0mItems\u001b[0m\u001b[1;33m,\u001b[0m \u001b[0mmaxWeight\u001b[0m\u001b[1;33m,\u001b[0m \u001b[0mkeyFcn\u001b[0m\u001b[1;33m)\u001b[0m\u001b[1;33m:\u001b[0m\u001b[1;33m\u001b[0m\u001b[0m\n\u001b[0;32m     31\u001b[0m     \u001b[1;32massert\u001b[0m \u001b[0mtype\u001b[0m\u001b[1;33m(\u001b[0m\u001b[0mItems\u001b[0m\u001b[1;33m)\u001b[0m \u001b[1;33m==\u001b[0m \u001b[0mlist\u001b[0m \u001b[1;32mand\u001b[0m \u001b[0mmaxWeight\u001b[0m \u001b[1;33m>=\u001b[0m \u001b[1;36m0\u001b[0m\u001b[1;31m#测试，确保Items是list，最大可装载量非负\u001b[0m\u001b[1;33m\u001b[0m\u001b[0m\n\u001b[1;32m---> 32\u001b[1;33m     \u001b[0mItemsCopy\u001b[0m \u001b[1;33m=\u001b[0m \u001b[0msorted\u001b[0m\u001b[1;33m(\u001b[0m\u001b[0mItems\u001b[0m\u001b[1;33m,\u001b[0m \u001b[0mkey\u001b[0m\u001b[1;33m=\u001b[0m\u001b[0mkeyFcn\u001b[0m\u001b[1;33m,\u001b[0m \u001b[0mreverse\u001b[0m \u001b[1;33m=\u001b[0m \u001b[0mTrue\u001b[0m\u001b[1;33m)\u001b[0m\u001b[1;31m#该排序规则下，最经济的物品排在最前\u001b[0m\u001b[1;33m\u001b[0m\u001b[0m\n\u001b[0m\u001b[0;32m     33\u001b[0m     \u001b[0mresult\u001b[0m \u001b[1;33m=\u001b[0m \u001b[1;33m[\u001b[0m\u001b[1;33m]\u001b[0m\u001b[1;33m\u001b[0m\u001b[0m\n\u001b[0;32m     34\u001b[0m     \u001b[0mtotalVal\u001b[0m \u001b[1;33m=\u001b[0m \u001b[1;36m0.0\u001b[0m\u001b[1;33m\u001b[0m\u001b[0m\n",
      "\u001b[1;32m<ipython-input-4-3a80cbc18806>\u001b[0m in \u001b[0;36mdensity\u001b[1;34m(item)\u001b[0m\n\u001b[0;32m     50\u001b[0m \u001b[1;33m\u001b[0m\u001b[0m\n\u001b[0;32m     51\u001b[0m \u001b[1;32mdef\u001b[0m \u001b[0mdensity\u001b[0m\u001b[1;33m(\u001b[0m\u001b[0mitem\u001b[0m\u001b[1;33m)\u001b[0m\u001b[1;33m:\u001b[0m\u001b[1;31m#价值密度\u001b[0m\u001b[1;33m\u001b[0m\u001b[0m\n\u001b[1;32m---> 52\u001b[1;33m     \u001b[1;32mreturn\u001b[0m \u001b[0mitem\u001b[0m\u001b[1;33m.\u001b[0m\u001b[0mgetValue\u001b[0m\u001b[1;33m(\u001b[0m\u001b[1;33m)\u001b[0m\u001b[1;33m/\u001b[0m\u001b[0mitem\u001b[0m\u001b[1;33m.\u001b[0m\u001b[0mgetWeight\u001b[0m\u001b[1;33m(\u001b[0m\u001b[1;33m)\u001b[0m\u001b[1;33m\u001b[0m\u001b[0m\n\u001b[0m\u001b[0;32m     53\u001b[0m \u001b[1;33m\u001b[0m\u001b[0m\n\u001b[0;32m     54\u001b[0m \u001b[1;32mdef\u001b[0m \u001b[0mtestGreedy\u001b[0m\u001b[1;33m(\u001b[0m\u001b[0mItems\u001b[0m\u001b[1;33m,\u001b[0m \u001b[0mconstraint\u001b[0m\u001b[1;33m,\u001b[0m \u001b[0mgetKey\u001b[0m\u001b[1;33m)\u001b[0m\u001b[1;33m:\u001b[0m\u001b[1;33m\u001b[0m\u001b[0m\n",
      "\u001b[1;31mZeroDivisionError\u001b[0m: float division by zero"
     ]
    }
   ],
   "source": [
    "def weightInverse(item):\n",
    "    return -item.getWeight()\n",
    "maxWeight = 14\n",
    "print 'Use greedy by value to fill a knapsack of size', maxWeight\n",
    "testGreedy(Items, maxWeight, value)#选值钱的\n",
    "print 'Use greedy by weight to fill a knapsack of size', maxWeight\n",
    "testGreedy(Items, maxWeight, weightInverse)#选重的！\n",
    "print 'Use greedy by density to fill a knapsack of size', maxWeight\n",
    "testGreedy(Items, maxWeight, density)#选价值密度高的   "
   ]
  },
  {
   "cell_type": "markdown",
   "metadata": {},
   "source": [
    "### L8 Problem 4\n",
    "\n",
    "\n",
    "关于`yield`的用法，参见http://pyzh.readthedocs.org/en/latest/the-python-yield-keyword-explained.html"
   ]
  },
  {
   "cell_type": "code",
   "execution_count": 54,
   "metadata": {
    "collapsed": false
   },
   "outputs": [
    {
     "name": "stdout",
     "output_type": "stream",
     "text": [
      "[]\n",
      "['A']\n",
      "['B']\n",
      "['A', 'B']\n",
      "['C']\n",
      "['A', 'C']\n",
      "['B', 'C']\n",
      "['A', 'B', 'C']\n"
     ]
    }
   ],
   "source": [
    "# generate all combinations of N items\n",
    "def powerSet(items):\n",
    "    N = len(items)\n",
    "    # enumerate the 2**N possible combinations\n",
    "    for i in xrange(2**N):\n",
    "        combo = []\n",
    "        for j in xrange(N):\n",
    "            # test bit jth of integer i(检验第i位是否为1)\n",
    "            #e.g., i = 3 = (11), j = 0 and 1 \n",
    "            if (i >> j) % 2 == 1:\n",
    "                combo.append(items[j])\n",
    "        yield combo\n",
    "\n",
    "for item in powerSet('ABC'):\n",
    "    print item"
   ]
  },
  {
   "cell_type": "markdown",
   "metadata": {},
   "source": [
    "逐步分析：\n",
    "\n",
    "- i = 0 => []\n",
    "- i = 1, j = 0 => A\n",
    "- i = 2, j = 1 => B\n",
    "- i = 3, j = 0 & j = 1 => AB\n",
    "- i = 4. j = 2 => C\n",
    "- i = 5, j = 0 & j = 2 => AC\n",
    "- i = 6, j = 1 & j = 2 => BC\n",
    "- i = 7, j = 0 & j = 1 & j = 2 => ABC\n",
    "\n",
    "实际上，i提供了所有可能的情况：[],0,1,10,11,...，而j分别将每种情况翻译成输出。例如，对于情况 i = 101，j(0,2)将其翻译为AC，而j(0,2)是由i唯一确定的(第0位和第2位是1)。由以上分析，容易得到下面的实现。"
   ]
  },
  {
   "cell_type": "code",
   "execution_count": 60,
   "metadata": {
    "collapsed": false
   },
   "outputs": [
    {
     "name": "stdout",
     "output_type": "stream",
     "text": [
      "([], [])\n",
      "(['A'], [])\n",
      "([], ['A'])\n",
      "(['B'], [])\n",
      "(['A', 'B'], [])\n",
      "(['B'], ['A'])\n",
      "([], ['B'])\n",
      "(['A'], ['B'])\n",
      "([], ['A', 'B'])\n",
      "(['C'], [])\n",
      "(['A', 'C'], [])\n",
      "(['C'], ['A'])\n",
      "(['B', 'C'], [])\n",
      "(['A', 'B', 'C'], [])\n",
      "(['B', 'C'], ['A'])\n",
      "(['C'], ['B'])\n",
      "(['A', 'C'], ['B'])\n",
      "(['C'], ['A', 'B'])\n",
      "([], ['C'])\n",
      "(['A'], ['C'])\n",
      "([], ['A', 'C'])\n",
      "(['B'], ['C'])\n",
      "(['A', 'B'], ['C'])\n",
      "(['B'], ['A', 'C'])\n",
      "([], ['B', 'C'])\n",
      "(['A'], ['B', 'C'])\n",
      "([], ['A', 'B', 'C'])\n"
     ]
    }
   ],
   "source": [
    "def yieldAllCombos(items):\n",
    "    \"\"\"\n",
    "      Generates all combinations of N items into two bags, whereby each \n",
    "      item is in one or zero bags.\n",
    "\n",
    "      Yields a tuple, (bag1, bag2), where each bag is represented as \n",
    "      a list of which item(s) are in each bag.\n",
    "    \"\"\"\n",
    "    N = len(items)\n",
    "    # enumerate the 3**N possible combinations\n",
    "    for i in xrange(3**N):\n",
    "        combo = ([], [])\n",
    "        for j in xrange(N):\n",
    "            # test bit jth of integer i\n",
    "            if (i / (3**j)) % 3 == 1:\n",
    "                combo[0].append(items[j])\n",
    "            elif (i / (3**j)) % 3 == 2:\n",
    "                combo[1].append(items[j])\n",
    "        yield combo\n",
    "\n",
    "for item in yieldAllCombos('ABC'):\n",
    "    print item"
   ]
  },
  {
   "cell_type": "markdown",
   "metadata": {},
   "source": [
    "### L8 Problem 5"
   ]
  },
  {
   "cell_type": "code",
   "execution_count": 65,
   "metadata": {
    "collapsed": false
   },
   "outputs": [
    {
     "name": "stdout",
     "output_type": "stream",
     "text": [
      "()\n",
      "(1,)\n",
      "(2,)\n",
      "(3,)\n",
      "(1, 2)\n",
      "(1, 3)\n",
      "(2, 3)\n",
      "(1, 2, 3)\n"
     ]
    }
   ],
   "source": [
    "from itertools import chain, combinations\n",
    "\n",
    "def powerset(iterable):\n",
    "    \"powerset([1,2,3]) --> () (1,) (2,) (3,) (1,2) (1,3) (2,3) (1,2,3)\"\n",
    "    s = list(iterable)\n",
    "    return chain.from_iterable(combinations(s, r) for r in range(len(s)+1))\n",
    "\n",
    "for subset in powerset([1,2,3]):\n",
    "    print subset"
   ]
  },
  {
   "cell_type": "markdown",
   "metadata": {},
   "source": [
    "### 斐波那契数列\n",
    "\n",
    "对于斐波那契数列的递归算法，出现大量的重复计算。可以用记忆的办法（字典）减少计算次数。容易发现，不加记忆的递归算法的费时是难以忍受的。"
   ]
  },
  {
   "cell_type": "code",
   "execution_count": 70,
   "metadata": {
    "collapsed": true
   },
   "outputs": [],
   "source": [
    "import time"
   ]
  },
  {
   "cell_type": "code",
   "execution_count": 79,
   "metadata": {
    "collapsed": true
   },
   "outputs": [],
   "source": [
    "def fastFib(x, memo):\n",
    "    assert type(x) == int and x >= 0 and type(memo) == dict\n",
    "    if x == 0 or x == 1:\n",
    "        return 1\n",
    "    if x in memo:\n",
    "        return memo[x]\n",
    "    result = fastFib(x-1, memo) + fastFib(x-2, memo)\n",
    "    memo[x] = result\n",
    "    return result\n",
    "\n",
    "def testFastFib(n):\n",
    "    assert type(n) == int and n >=  0\n",
    "    start = time.time()\n",
    "    for i in range(n):\n",
    "        tmp = fastFib(i, {})\n",
    "    end = time.time()\n",
    "    print 'Time cost: ', end - start"
   ]
  },
  {
   "cell_type": "code",
   "execution_count": 80,
   "metadata": {
    "collapsed": false
   },
   "outputs": [
    {
     "name": "stdout",
     "output_type": "stream",
     "text": [
      "Time cost:  0.00699996948242\n"
     ]
    }
   ],
   "source": [
    "testFastFib(100)"
   ]
  },
  {
   "cell_type": "code",
   "execution_count": 83,
   "metadata": {
    "collapsed": true
   },
   "outputs": [],
   "source": [
    "def fib(x):\n",
    "    assert type(x) == int and x >= 0\n",
    "    if x == 0 or x == 1:\n",
    "        return 1\n",
    "    else:\n",
    "        return fib(x-1) + fib(x-2)\n",
    "\n",
    "def testFib(n):\n",
    "    assert type(n) == int and n >=  0\n",
    "    start = time.time()\n",
    "    for i in range(n):\n",
    "        tmp = fib(i)\n",
    "    end = time.time()\n",
    "    print 'Time cost: ', end - start"
   ]
  },
  {
   "cell_type": "code",
   "execution_count": 85,
   "metadata": {
    "collapsed": false
   },
   "outputs": [
    {
     "name": "stdout",
     "output_type": "stream",
     "text": [
      "Time cost:  160.902999878\n"
     ]
    }
   ],
   "source": [
    "testFib(40)"
   ]
  },
  {
   "cell_type": "markdown",
   "metadata": {},
   "source": [
    "对比迭代的斐波那契数列生成方法。"
   ]
  },
  {
   "cell_type": "code",
   "execution_count": 101,
   "metadata": {
    "collapsed": true
   },
   "outputs": [],
   "source": [
    "def iter(n, k, a, b):\n",
    "    assert type(n) == int and n >= 0 and k <= n\n",
    "    if n == 0 or n == 1:\n",
    "        return 1\n",
    "    elif k == n:\n",
    "        return a\n",
    "    else:\n",
    "        return iter(n, k + 1, b, a + b)\n",
    "\n",
    "def iterFib(n):\n",
    "    return iter(n, 0, 1, 1)\n",
    "        \n",
    "def testIterFib(n):\n",
    "    assert type(n) == int and n >= 0\n",
    "    start = time.time()\n",
    "    for i in range(n):\n",
    "        tmp = iterFib(i)\n",
    "    end = time.time()\n",
    "    print 'Time cost: ', end - start"
   ]
  },
  {
   "cell_type": "code",
   "execution_count": 103,
   "metadata": {
    "collapsed": false
   },
   "outputs": [
    {
     "name": "stdout",
     "output_type": "stream",
     "text": [
      "Time cost:  0.00300002098083\n"
     ]
    }
   ],
   "source": [
    "testIterFib(100)"
   ]
  },
  {
   "cell_type": "markdown",
   "metadata": {},
   "source": [
    "能发现，迭代方法比记忆法更快。"
   ]
  },
  {
   "cell_type": "code",
   "execution_count": null,
   "metadata": {
    "collapsed": true
   },
   "outputs": [],
   "source": []
  }
 ],
 "metadata": {
  "kernelspec": {
   "display_name": "Python 2",
   "language": "python",
   "name": "python2"
  },
  "language_info": {
   "codemirror_mode": {
    "name": "ipython",
    "version": 2
   },
   "file_extension": ".py",
   "mimetype": "text/x-python",
   "name": "python",
   "nbconvert_exporter": "python",
   "pygments_lexer": "ipython2",
   "version": "2.7.11"
  }
 },
 "nbformat": 4,
 "nbformat_minor": 0
}
