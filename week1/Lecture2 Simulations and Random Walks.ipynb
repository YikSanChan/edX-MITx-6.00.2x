{
 "cells": [
  {
   "cell_type": "code",
   "execution_count": 1,
   "metadata": {
    "collapsed": true
   },
   "outputs": [],
   "source": [
    "import pylab\n",
    "%matplotlib inline"
   ]
  },
  {
   "cell_type": "code",
   "execution_count": 2,
   "metadata": {
    "collapsed": true
   },
   "outputs": [],
   "source": [
    "class Location(object):\n",
    "    \n",
    "    def __init__(self, x, y):\n",
    "        \"\"\"x and y are floats\"\"\"\n",
    "        self.x = x\n",
    "        self.y = y\n",
    "        \n",
    "    def move(self, deltaX, deltaY):\n",
    "        \"\"\"deltaX and deltaY are floats\"\"\"\n",
    "        return Location(self.x + deltaX, self.y + deltaY)\n",
    "    \n",
    "    def getX(self):\n",
    "        return self.x\n",
    "    \n",
    "    def getY(self):\n",
    "        return self.y\n",
    "    \n",
    "    def distFrom(self, other):\n",
    "        ox = other.x\n",
    "        oy = other.y\n",
    "        xDist = self.x - ox\n",
    "        yDist = self.y - oy\n",
    "        return (xDist**2 + yDist**2)**0.5\n",
    "    \n",
    "    def __str__(self):\n",
    "        return '<' + str(self.x) + ', ' + str(self.y) + '>'\n",
    "\n",
    "class Field(object):\n",
    "    \n",
    "    def __init__(self):\n",
    "        self.drunks = {}\n",
    "        \n",
    "    def addDrunk(self, drunk, loc):\n",
    "        if drunk in self.drunks:\n",
    "            raise ValueError('Duplicate drunk')\n",
    "        else:\n",
    "            self.drunks[drunk] = loc\n",
    "            \n",
    "    def moveDrunk(self, drunk):\n",
    "        if not drunk in self.drunks:\n",
    "            raise ValueError('Drunk not in field')\n",
    "        xDist, yDist = drunk.takeStep()\n",
    "        currentLocation = self.drunks[drunk]\n",
    "        #use move method of Location to get new location\n",
    "        self.drunks[drunk] = currentLocation.move(xDist, yDist)\n",
    "        \n",
    "    def getLoc(self, drunk):\n",
    "        if not drunk in self.drunks:\n",
    "            raise ValueError('Drunk not in field')\n",
    "        return self.drunks[drunk]\n",
    "\n",
    "import random\n",
    "\n",
    "class Drunk(object):\n",
    "    def __init__(self, name):\n",
    "        self.name = name\n",
    "    def __str__(self):\n",
    "        return 'This drunk is named ' + self.name\n",
    "    \n",
    "class UsualDrunk(Drunk):\n",
    "    def takeStep(self):\n",
    "        stepChoices =\\\n",
    "            [(0.0,1.0), (0.0,-1.0), (1.0, 0.0), (-1.0, 0.0)]\n",
    "        return random.choice(stepChoices)"
   ]
  },
  {
   "cell_type": "code",
   "execution_count": 3,
   "metadata": {
    "collapsed": true
   },
   "outputs": [],
   "source": [
    "def walk(f, d, numSteps):\n",
    "    start = f.getLoc(d)\n",
    "    for s in range(numSteps):\n",
    "        f.moveDrunk(d)\n",
    "    return(start.distFrom(f.getLoc(d)))\n",
    "\n",
    "# def simWalks(numSteps, numTrials):\n",
    "#     homer = UsualDrunk('Homer')\n",
    "#     origin = Location(0, 0)\n",
    "#     distances = []\n",
    "#     for t in range(numTrials):\n",
    "#         f = Field()\n",
    "#         f.addDrunk(homer, origin)\n",
    "#         distances.append(walk(f, homer, numSteps))\n",
    "#     return distances\n",
    "\n",
    "def drunkTest(numTrials = 20):\n",
    "    for numSteps in [10, 100, 1000, 10000]:\n",
    "        distances = simWalks(numSteps, numTrials)\n",
    "        print 'Random walk of ' + str(numSteps) + ' steps'\n",
    "        print ' Mean =', sum(distances)/len(distances)\n",
    "        print ' Max =', max(distances), 'Min =', min(distances)"
   ]
  },
  {
   "cell_type": "code",
   "execution_count": 4,
   "metadata": {
    "collapsed": false
   },
   "outputs": [
    {
     "name": "stdout",
     "output_type": "stream",
     "text": [
      "Random walk of 10 steps\n",
      " Mean = 2.99916042009\n",
      " Max = 6.0 Min = 0.0\n",
      "Random walk of 100 steps\n",
      " Mean = 9.63208006088\n",
      " Max = 24.0831891576 Min = 2.0\n",
      "Random walk of 1000 steps\n",
      " Mean = 25.7836161556\n",
      " Max = 49.4974746831 Min = 8.48528137424\n",
      "Random walk of 10000 steps\n",
      " Mean = 83.7051952548\n",
      " Max = 191.80198122 Min = 17.4928556845\n"
     ]
    }
   ],
   "source": [
    "drunkTest()"
   ]
  },
  {
   "cell_type": "code",
   "execution_count": 5,
   "metadata": {
    "collapsed": false
   },
   "outputs": [
    {
     "data": {
      "image/png": "[encoded data removed]",
      "text/plain": [
       "<matplotlib.figure.Figure at 0x3f36710>"
      ]
     },
     "metadata": {},
     "output_type": "display_data"
    }
   ],
   "source": [
    "# def drunkTestP(numTrials = 50):\n",
    "#     stepsTaken = [10, 100, 1000, 10000]\n",
    "#     meanDistances = []\n",
    "#     for numSteps in stepsTaken:\n",
    "#         distances = simWalks(numSteps, numTrials)\n",
    "#         meanDistances.append(sum(distances)/len(distances))\n",
    "#     pylab.plot(stepsTaken, meanDistances)\n",
    "#     pylab.title('Mean Distance from Origin')\n",
    "#     pylab.xlabel('Steps Taken')\n",
    "#     pylab.ylabel('Steps from Origin')\n",
    "#     pylab.show()\n",
    "\n",
    "# drunkTestP()"
   ]
  },
  {
   "cell_type": "code",
   "execution_count": 7,
   "metadata": {
    "collapsed": false
   },
   "outputs": [
    {
     "data": {
      "image/png": "[encoded data removed]",
      "text/plain": [
       "<matplotlib.figure.Figure at 0xa610f60>"
      ]
     },
     "metadata": {},
     "output_type": "display_data"
    }
   ],
   "source": [
    "def drunkTestP1(numTrials = 50):\n",
    "    stepsTaken = [10, 100, 1000, 10000]\n",
    "    meanDistances = []\n",
    "    squareRootOfSteps = []\n",
    "    for numSteps in stepsTaken:\n",
    "        distances = simWalks(numSteps, numTrials)\n",
    "        meanDistances.append(sum(distances)/len(distances))\n",
    "        squareRootOfSteps.append(numSteps**0.5)\n",
    "    pylab.plot(stepsTaken, meanDistances, 'b-',\n",
    "               label = 'Mean distance')\n",
    "    pylab.plot(stepsTaken, squareRootOfSteps, 'g-.',\n",
    "               label = 'Square root of steps')\n",
    "    pylab.title('Mean Distance from Origin')\n",
    "    pylab.xlabel('Steps Taken')\n",
    "    pylab.ylabel('Steps from Origin')\n",
    "    pylab.legend()\n",
    "    pylab.show()\n",
    "\n",
    "drunkTestP1()"
   ]
  },
  {
   "cell_type": "code",
   "execution_count": 4,
   "metadata": {
    "collapsed": true
   },
   "outputs": [],
   "source": [
    "#Look at different kinds of drunks\n",
    "\n",
    "class ColdDrunk(Drunk):\n",
    "    def takeStep(self):\n",
    "        stepChoices =\\\n",
    "            [(0.0,0.95), (0.0,-1.0), (1.0, 0.0), (-1.0, 0.0)]\n",
    "        return random.choice(stepChoices)\n",
    "\n",
    "class EDrunk(Drunk):\n",
    "    def takeStep(self):\n",
    "        deltaX = random.random()\n",
    "        if random.random() < 0.5:\n",
    "            deltaX = -deltaX\n",
    "        deltaY = random.random()\n",
    "        if random.random() < 0.5:\n",
    "            deltaY = -deltaY\n",
    "        return (deltaX, deltaY)\n",
    "\n",
    "# New version of simWalks\n",
    "\n",
    "def simWalks(numSteps, numTrials, dClass):\n",
    "    homer = dClass('Homer')\n",
    "    origin = Location(0, 0)\n",
    "    distances = []\n",
    "    for t in range(numTrials):\n",
    "        f = Field()\n",
    "        f.addDrunk(homer, origin)\n",
    "        distances.append(walk(f, homer, numSteps))\n",
    "    return distances\n",
    "\n",
    "\n",
    "def drunkTestP(numTrials = 50):\n",
    "    stepsTaken = [10, 100, 1000, 10000]\n",
    "    for dClass in (UsualDrunk, ColdDrunk, EDrunk):\n",
    "        meanDistances = []\n",
    "        for numSteps in stepsTaken:\n",
    "            distances = simWalks(numSteps, numTrials, dClass)\n",
    "            meanDistances.append(sum(distances)/len(distances))\n",
    "        pylab.plot(stepsTaken, meanDistances,\n",
    "                   label = dClass.__name__)\n",
    "        pylab.title('Mean Distance from Origin')\n",
    "        pylab.xlabel('Steps Taken')\n",
    "        pylab.ylabel('Steps from Origin')\n",
    "        pylab.legend(loc = 'upper left')\n",
    "    pylab.show()"
   ]
  },
  {
   "cell_type": "code",
   "execution_count": 5,
   "metadata": {
    "collapsed": false
   },
   "outputs": [
    {
     "data": {
      "image/png": "[encoded data removed]",
      "text/plain": [
       "<matplotlib.figure.Figure at 0x3f404e0>"
      ]
     },
     "metadata": {},
     "output_type": "display_data"
    }
   ],
   "source": [
    "drunkTestP()"
   ]
  },
  {
   "cell_type": "markdown",
   "metadata": {},
   "source": [
    "### L2 Problem 2"
   ]
  },
  {
   "cell_type": "code",
   "execution_count": 2,
   "metadata": {
    "collapsed": true
   },
   "outputs": [],
   "source": [
    "import random"
   ]
  },
  {
   "cell_type": "code",
   "execution_count": 12,
   "metadata": {
    "collapsed": false
   },
   "outputs": [],
   "source": [
    "def genEven():\n",
    "    '''\n",
    "    Returns a random even number x, where 0 <= x < 100\n",
    "    '''\n",
    "    while True:\n",
    "        randNum = random.randint(0, 98)\n",
    "        if randNum % 2 == 1:\n",
    "            continue\n",
    "        return randNum"
   ]
  },
  {
   "cell_type": "code",
   "execution_count": 13,
   "metadata": {
    "collapsed": false
   },
   "outputs": [
    {
     "name": "stdout",
     "output_type": "stream",
     "text": [
      "70\n",
      "32\n",
      "88\n",
      "40\n",
      "98\n"
     ]
    }
   ],
   "source": [
    "for i in range(5):\n",
    "    print genEven()"
   ]
  },
  {
   "cell_type": "code",
   "execution_count": 16,
   "metadata": {
    "collapsed": true
   },
   "outputs": [],
   "source": [
    "random.randint?"
   ]
  },
  {
   "cell_type": "markdown",
   "metadata": {},
   "source": [
    "### L2 Problem 6"
   ]
  },
  {
   "cell_type": "code",
   "execution_count": 3,
   "metadata": {
    "collapsed": false
   },
   "outputs": [
    {
     "name": "stdout",
     "output_type": "stream",
     "text": [
      "[8, 8, 8, 8, 8]\n"
     ]
    }
   ],
   "source": [
    "import random\n",
    "mylist = []\n",
    "\n",
    "for i in xrange(random.randint(1, 10)):\n",
    "    random.seed(0)\n",
    "    if random.randint(1, 10) > 3:\n",
    "        number = random.randint(1, 10)\n",
    "        mylist.append(number)\n",
    "print mylist"
   ]
  },
  {
   "cell_type": "markdown",
   "metadata": {},
   "source": [
    "Why the result is always 8? In fact, if seed is set, then `random` module will always give same sequence of numbers."
   ]
  },
  {
   "cell_type": "code",
   "execution_count": 6,
   "metadata": {
    "collapsed": false
   },
   "outputs": [
    {
     "data": {
      "text/plain": [
       "[9, 8, 5, 3, 6, 5, 8, 4, 5, 6]"
      ]
     },
     "execution_count": 6,
     "metadata": {},
     "output_type": "execute_result"
    }
   ],
   "source": [
    "random.seed(0)\n",
    "randNumList = []\n",
    "for i in range(10):\n",
    "    randNumList.append(random.randint(1,10))\n",
    "randNumList"
   ]
  },
  {
   "cell_type": "code",
   "execution_count": 7,
   "metadata": {
    "collapsed": false
   },
   "outputs": [
    {
     "data": {
      "text/plain": [
       "[9, 8, 5, 3, 6]"
      ]
     },
     "execution_count": 7,
     "metadata": {},
     "output_type": "execute_result"
    }
   ],
   "source": [
    "random.seed(0)\n",
    "randNumList = []\n",
    "for i in range(5):\n",
    "    randNumList.append(random.randint(1,10))\n",
    "randNumList"
   ]
  },
  {
   "cell_type": "markdown",
   "metadata": {},
   "source": [
    "It explains how `[8, 8, 8, 8, 8]` comes."
   ]
  },
  {
   "cell_type": "code",
   "execution_count": null,
   "metadata": {
    "collapsed": true
   },
   "outputs": [],
   "source": []
  }
 ],
 "metadata": {
  "kernelspec": {
   "display_name": "Python 2",
   "language": "python",
   "name": "python2"
  },
  "language_info": {
   "codemirror_mode": {
    "name": "ipython",
    "version": 2
   },
   "file_extension": ".py",
   "mimetype": "text/x-python",
   "name": "python",
   "nbconvert_exporter": "python",
   "pygments_lexer": "ipython2",
   "version": "2.7.10"
  }
 },
 "nbformat": 4,
 "nbformat_minor": 0
}
