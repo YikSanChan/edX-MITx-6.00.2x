{
 "cells": [
  {
   "cell_type": "markdown",
   "metadata": {},
   "source": [
    "### puzzle问题\n",
    "\n",
    "可以用图表示状态转换。考虑一个名为`puzzle`的游戏，游戏给出一个三乘三棋盘，棋盘上摆放了8个数字正方形，棋盘上有一个空位上没有摆放数字正方形，希望从某一状态转换到另一状态。可以将棋盘的一种状态视作一个节点，而边则表示不同节点之间的合法转换，因此可以用搜索的办法解决这个问题。\n",
    "\n",
    "首先看棋盘的表示。"
   ]
  },
  {
   "cell_type": "code",
   "execution_count": 1,
   "metadata": {
    "collapsed": true
   },
   "outputs": [],
   "source": [
    "class puzzle(object):\n",
    "    #order: 初始状态\n",
    "    #spot: 棋盘空位\n",
    "    def __init__(self, order):\n",
    "        self.label = order\n",
    "        for index in range(9):\n",
    "            if order[index] == '0':\n",
    "                self.spot = index\n",
    "                return None\n",
    "    #让self.label[to]变为空位\n",
    "    def transition(self, to):\n",
    "        label = self.label\n",
    "        blankLocation = self.spot\n",
    "        newBlankLabel = str(label[to])\n",
    "        newLabel = ''#用于存储新状态\n",
    "        for i in range(9):\n",
    "            if i == to:\n",
    "                newLabel += '0'\n",
    "            elif i == blankLocation:\n",
    "                newLabel += newBlankLabel\n",
    "            else:\n",
    "                newLabel += str(label[i])\n",
    "        return puzzle(newLabel)#返回新状态（棋盘布局）\n",
    "    def __str__(self):\n",
    "        return self.label"
   ]
  },
  {
   "cell_type": "markdown",
   "metadata": {},
   "source": [
    "结合下图，`shiftDict`应该如此：\n",
    "\n",
    "| 0 | 1 | 2 |\n",
    "|---|---|---|\n",
    "| 3 | 4 | 5 |\n",
    "| 6 | 7 | 8 |"
   ]
  },
  {
   "cell_type": "code",
   "execution_count": 2,
   "metadata": {
    "collapsed": true
   },
   "outputs": [],
   "source": [
    "shiftDict = {}\n",
    "shiftDict[0] = [1, 3]\n",
    "shiftDict[1] = [0, 2, 4]\n",
    "shiftDict[2] = [1, 5]\n",
    "shiftDict[3] = [0, 4, 6]\n",
    "shiftDict[4] = [1, 3, 5, 7]\n",
    "shiftDict[5] = [2, 4, 8]\n",
    "shiftDict[6] = [3, 7]\n",
    "shiftDict[7] = [4, 6, 8]\n",
    "shiftDict[8] = [5, 7]"
   ]
  },
  {
   "cell_type": "markdown",
   "metadata": {},
   "source": [
    "实现一个简单版本的先宽搜索，用于求解`puzzle`问题。"
   ]
  },
  {
   "cell_type": "code",
   "execution_count": 3,
   "metadata": {
    "collapsed": true
   },
   "outputs": [],
   "source": [
    "def notInPath(node, path):\n",
    "    for elt in path:\n",
    "        if node.label == elt.label:\n",
    "            return False\n",
    "    return True"
   ]
  },
  {
   "cell_type": "code",
   "execution_count": 4,
   "metadata": {
    "collapsed": true
   },
   "outputs": [],
   "source": [
    "def BFSWithGenerator(start, end, q = []):\n",
    "    \n",
    "    initPath = [start]\n",
    "    q.append(initPath)\n",
    "    while len(q) != 0:\n",
    "        tmpPath = q.pop(0)\n",
    "        lastNode = tmpPath[len(tmpPath) - 1]\n",
    "        if lastNode.label == end.label:\n",
    "            return tmpPath\n",
    "        for shift in shiftDict[lastNode.spot]:\n",
    "            new = lastNode.transition(shift)\n",
    "            if notInPath(new, tmpPath):\n",
    "                newPath = tmpPath + [new]\n",
    "                q.append(newPath)\n",
    "    return None"
   ]
  },
  {
   "cell_type": "markdown",
   "metadata": {},
   "source": [
    "显然也可用先深搜索处理这个问题。这里的DFS与前面的BFS只有一个不同：\n",
    "\n",
    "- BFS中，插入`queue`的尾部，而在DFS中，插入`stack`的头部，相当于“`queue`”的头部。对`stack`进行`pop`操作实际上是取出其最顶的元素。"
   ]
  },
  {
   "cell_type": "code",
   "execution_count": 6,
   "metadata": {
    "collapsed": true
   },
   "outputs": [],
   "source": [
    "def DFSWithGenerator(start, end, stack = []):\n",
    "    #assumes graph is a Digraph\n",
    "    #assumes start and end are nodes in graph\n",
    "    initPath = [start]\n",
    "    stack.insert(0, initPath)\n",
    "    while len(stack)!= 0:\n",
    "        tmpPath = stack.pop(0)\n",
    "        lastNode = tmpPath[len(tmpPath) - 1]\n",
    "        if lastNode.label == end.label:\n",
    "            return tmpPath\n",
    "        for shift in shiftDict[lastNode.spot]:\n",
    "            new = lastNode.transition(shift)\n",
    "            if notInPath(new, tmpPath): #avoid cycles\n",
    "                newPath = tmpPath + [new]\n",
    "                stack.insert(0, newPath)\n",
    "    return None"
   ]
  },
  {
   "cell_type": "markdown",
   "metadata": {},
   "source": [
    "配上数据开始跑。"
   ]
  },
  {
   "cell_type": "code",
   "execution_count": 7,
   "metadata": {
    "collapsed": true
   },
   "outputs": [],
   "source": [
    "goal = puzzle('012345678')\n",
    "test1 = puzzle('125638047')"
   ]
  },
  {
   "cell_type": "code",
   "execution_count": 8,
   "metadata": {
    "collapsed": true
   },
   "outputs": [],
   "source": [
    "def printGrid(pzl):\n",
    "    data = pzl.label\n",
    "    print data[0], data[1], data[2]\n",
    "    print data[3], data[4], data[5]\n",
    "    print data[6], data[7], data[8]\n",
    "    print ''\n",
    "\n",
    "def printSolution(path):\n",
    "    for elt in path:\n",
    "        printGrid(elt)"
   ]
  },
  {
   "cell_type": "code",
   "execution_count": 11,
   "metadata": {
    "collapsed": false
   },
   "outputs": [
    {
     "name": "stdout",
     "output_type": "stream",
     "text": [
      "1 2 5\n",
      "6 3 8\n",
      "0 4 7\n",
      "\n",
      "1 2 5\n",
      "6 3 8\n",
      "4 0 7\n",
      "\n",
      "1 2 5\n",
      "6 0 8\n",
      "4 3 7\n",
      "\n",
      "1 2 5\n",
      "0 6 8\n",
      "4 3 7\n",
      "\n",
      "1 2 5\n",
      "4 6 8\n",
      "0 3 7\n",
      "\n",
      "1 2 5\n",
      "4 6 8\n",
      "3 0 7\n",
      "\n",
      "1 2 5\n",
      "4 0 8\n",
      "3 6 7\n",
      "\n",
      "1 2 5\n",
      "0 4 8\n",
      "3 6 7\n",
      "\n",
      "1 2 5\n",
      "3 4 8\n",
      "0 6 7\n",
      "\n",
      "1 2 5\n",
      "3 4 8\n",
      "6 0 7\n",
      "\n",
      "1 2 5\n",
      "3 4 8\n",
      "6 7 0\n",
      "\n",
      "1 2 5\n",
      "3 4 0\n",
      "6 7 8\n",
      "\n",
      "1 2 0\n",
      "3 4 5\n",
      "6 7 8\n",
      "\n",
      "1 0 2\n",
      "3 4 5\n",
      "6 7 8\n",
      "\n",
      "0 1 2\n",
      "3 4 5\n",
      "6 7 8\n",
      "\n"
     ]
    }
   ],
   "source": [
    "path = BFSWithGenerator(test1, goal)\n",
    "printSolution(path)"
   ]
  },
  {
   "cell_type": "markdown",
   "metadata": {},
   "source": [
    "而用先深搜索则根本跑不出结果。"
   ]
  },
  {
   "cell_type": "markdown",
   "metadata": {
    "collapsed": true
   },
   "source": [
    "### Maximum Cliques\n",
    "\n",
    "最大子团问题。子团，即一个完全连通分量，指一个子图，图中任意两个节点之间都存在连接。子团具有许多现实对应物，比如疾病感染人群，或朋友圈。\n",
    "\n",
    "这里只讨论用暴力方法求解最大子团问题。先考虑用递归的方法求解幂集。随后求解图的幂集。然后遍历幂集中的元素，考察它们之间的连线在我们要研究的图中是否存在。\n",
    "\n",
    "幂集。"
   ]
  },
  {
   "cell_type": "code",
   "execution_count": 10,
   "metadata": {
    "collapsed": true
   },
   "outputs": [],
   "source": [
    "def powerSet(elts):\n",
    "    if len(elts) == 0:\n",
    "        return [[]]\n",
    "    else:\n",
    "        smaller = powerSet(elts[1:])\n",
    "        elt = [elts[0]]\n",
    "        withElt = []\n",
    "        for s in smaller:\n",
    "            withElt.append(s + elt)\n",
    "        allofthem = smaller + withElt\n",
    "        return allofthem"
   ]
  },
  {
   "cell_type": "code",
   "execution_count": 2,
   "metadata": {
    "collapsed": false
   },
   "outputs": [
    {
     "data": {
      "text/plain": [
       "[[], [3], [2], [3, 2], [1], [3, 1], [2, 1], [3, 2, 1]]"
      ]
     },
     "execution_count": 2,
     "metadata": {},
     "output_type": "execute_result"
    }
   ],
   "source": [
    "powerSet([1,2,3])"
   ]
  },
  {
   "cell_type": "markdown",
   "metadata": {
    "collapsed": true
   },
   "source": [
    "图的幂集。"
   ]
  },
  {
   "cell_type": "code",
   "execution_count": 8,
   "metadata": {
    "collapsed": true
   },
   "outputs": [],
   "source": [
    "def powerGraph(gr):\n",
    "    nodes = gr.nodes\n",
    "    nodesList = []\n",
    "    for elt in nodes:\n",
    "        nodesList.append(elt)\n",
    "    pSet = powerSet(nodesList)\n",
    "    return pSet"
   ]
  },
  {
   "cell_type": "markdown",
   "metadata": {},
   "source": [
    "节点之间的连线全部存在吗？`candidate`是图的幂集中的一个元素，是一堆点。"
   ]
  },
  {
   "cell_type": "code",
   "execution_count": 4,
   "metadata": {
    "collapsed": true
   },
   "outputs": [],
   "source": [
    "def allConnected(gr, candidate):\n",
    "    for n in candidate:\n",
    "        for m in candidate:\n",
    "            if not n == m:\n",
    "                if n not in gr.childrenOf(m):\n",
    "                    return False\n",
    "    return True"
   ]
  },
  {
   "cell_type": "markdown",
   "metadata": {},
   "source": [
    "最大子团。"
   ]
  },
  {
   "cell_type": "code",
   "execution_count": 12,
   "metadata": {
    "collapsed": true
   },
   "outputs": [],
   "source": [
    "def maxClique(gr):\n",
    "    candidates = powerGraph(gr)\n",
    "    keepEm = []\n",
    "    for candidate in candidates:\n",
    "        if allConnected(gr, candidate):\n",
    "            keepEm.append(candidate)\n",
    "    bestLength = 0\n",
    "    bestSoln = None\n",
    "    for test in keepEm:\n",
    "        if len(test) > bestLength:\n",
    "            bestLength = len(test)\n",
    "            bestSoln = test\n",
    "    return bestSoln"
   ]
  },
  {
   "cell_type": "markdown",
   "metadata": {},
   "source": [
    "测试。"
   ]
  },
  {
   "cell_type": "code",
   "execution_count": 6,
   "metadata": {
    "collapsed": true
   },
   "outputs": [],
   "source": [
    "class Node(object):\n",
    "    def __init__(self, name):\n",
    "        self.name = str(name)\n",
    "    def getName(self):\n",
    "        return self.name\n",
    "    def __str__(self):\n",
    "        return self.name\n",
    "\n",
    "class Edge(object):\n",
    "    def __init__(self, src, dest):\n",
    "        self.src = src\n",
    "        self.dest = dest\n",
    "    def getSource(self):\n",
    "        return self.src\n",
    "    def getDestination(self):\n",
    "        return self.dest\n",
    "    def __str__(self):\n",
    "        return str(self.src) + '->' + str(self.dest)\n",
    "\n",
    "class WeightedEdge(Edge):\n",
    "    def __init__(self, src, dest, weight = 1.0):\n",
    "        self.src = src\n",
    "        self.dest = dest\n",
    "        self.weight = weight\n",
    "    def getWeight(self):\n",
    "        return self.weight\n",
    "    def __str__(self):\n",
    "        return str(self.src) + '->(' + str(self.weight) + ')'\\\n",
    "            + str(self.dest)\n",
    "\n",
    "class Digraph(object):\n",
    "    def __init__(self):\n",
    "        self.nodes = set([])\n",
    "        self.edges = {}\n",
    "    def addNode(self, node):\n",
    "        if node in self.nodes:\n",
    "            raise ValueError('Duplicate node')\n",
    "        else:\n",
    "            self.nodes.add(node)\n",
    "            self.edges[node] = []\n",
    "    def addEdge(self, edge):\n",
    "        src = edge.getSource()\n",
    "        dest = edge.getDestination()\n",
    "        if not(src in self.nodes and dest in self.nodes):\n",
    "            raise ValueError('Node not in graph')\n",
    "        self.edges[src].append(dest)\n",
    "    def childrenOf(self, node):\n",
    "        return self.edges[node]\n",
    "    def hasNode(self, node):\n",
    "        return node in self.nodes\n",
    "    def __str__(self):\n",
    "        res = ''\n",
    "        for k in self.edges:\n",
    "            for d in self.edges[k]:\n",
    "                res = res + str(k) + '->' + str(d) + '\\n'\n",
    "        return res[:-1]\n",
    "\n",
    "class Graph(Digraph):\n",
    "    def addEdge(self, edge):\n",
    "        Digraph.addEdge(self, edge)\n",
    "        rev = Edge(edge.getDestination(), edge.getSource())\n",
    "        Digraph.addEdge(self, rev)"
   ]
  },
  {
   "cell_type": "code",
   "execution_count": 13,
   "metadata": {
    "collapsed": false
   },
   "outputs": [],
   "source": [
    "def testGraph():\n",
    "    nodes = []\n",
    "    for name in range(5):\n",
    "        nodes.append(Node(str(name)))\n",
    "    g = Graph()\n",
    "    for n in nodes:\n",
    "        g.addNode(n)\n",
    "    g.addEdge(Edge(nodes[0],nodes[1]))\n",
    "    g.addEdge(Edge(nodes[1],nodes[2]))\n",
    "    g.addEdge(Edge(nodes[2],nodes[0]))\n",
    "    g.addEdge(Edge(nodes[2],nodes[4]))\n",
    "    g.addEdge(Edge(nodes[4],nodes[3]))\n",
    "    return g\n",
    "\n",
    "\n",
    "trialGraph = testGraph()\n",
    "myClique = maxClique(trialGraph)"
   ]
  },
  {
   "cell_type": "markdown",
   "metadata": {},
   "source": [
    "最大子团包含三个节点。"
   ]
  },
  {
   "cell_type": "code",
   "execution_count": 14,
   "metadata": {
    "collapsed": false
   },
   "outputs": [
    {
     "data": {
      "text/plain": [
       "[<__main__.Node at 0x3f8cf60>,\n",
       " <__main__.Node at 0x3f8ceb8>,\n",
       " <__main__.Node at 0x3f8cf28>]"
      ]
     },
     "execution_count": 14,
     "metadata": {},
     "output_type": "execute_result"
    }
   ],
   "source": [
    "myClique"
   ]
  },
  {
   "cell_type": "code",
   "execution_count": null,
   "metadata": {
    "collapsed": true
   },
   "outputs": [],
   "source": []
  }
 ],
 "metadata": {
  "kernelspec": {
   "display_name": "Python 2",
   "language": "python",
   "name": "python2"
  },
  "language_info": {
   "codemirror_mode": {
    "name": "ipython",
    "version": 2
   },
   "file_extension": ".py",
   "mimetype": "text/x-python",
   "name": "python",
   "nbconvert_exporter": "python",
   "pygments_lexer": "ipython2",
   "version": "2.7.11"
  }
 },
 "nbformat": 4,
 "nbformat_minor": 0
}
