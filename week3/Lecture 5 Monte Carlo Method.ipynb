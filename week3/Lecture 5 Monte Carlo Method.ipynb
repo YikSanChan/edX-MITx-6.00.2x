{
 "cells": [
  {
   "cell_type": "markdown",
   "metadata": {},
   "source": [
    "### 帕斯卡与赌博\n",
    "\n",
    "如何对以下事件下注？**24次投掷，每次同时投掷两枚均匀骰子，24次投掷中至少出现一次(6, 6)组合**。经计算，该结果很接近0.5，因此很难用实验方法得出。"
   ]
  },
  {
   "cell_type": "code",
   "execution_count": 2,
   "metadata": {
    "collapsed": false
   },
   "outputs": [],
   "source": [
    "import random\n",
    "\n",
    "def rollDie():\n",
    "    return random.choice([1,2,3,4,5,6])\n",
    "\n",
    "def checkPascal(numTrials, roll):\n",
    "    yes = 0.0\n",
    "    for i in range(numTrials):\n",
    "        for j in range(24):\n",
    "            d1 = roll()\n",
    "            d2 = roll()\n",
    "            if d1 == 6 and d2 == 6:\n",
    "                yes += 1\n",
    "                break\n",
    "    print 'Pobability of losing = ', 1.0 - yes / numTrials"
   ]
  },
  {
   "cell_type": "code",
   "execution_count": 3,
   "metadata": {
    "collapsed": false
   },
   "outputs": [
    {
     "name": "stdout",
     "output_type": "stream",
     "text": [
      "Pobability of losing =  0.5072\n"
     ]
    }
   ],
   "source": [
    "checkPascal(10000, rollDie)"
   ]
  },
  {
   "cell_type": "code",
   "execution_count": 5,
   "metadata": {
    "collapsed": false
   },
   "outputs": [
    {
     "data": {
      "text/plain": [
       "0.5085961238690966"
      ]
     },
     "execution_count": 5,
     "metadata": {},
     "output_type": "execute_result"
    }
   ],
   "source": [
    "(35.0/36)**24"
   ]
  },
  {
   "cell_type": "markdown",
   "metadata": {},
   "source": [
    "为了好玩，让骰子不均匀，让它出现6的概率更大一些。"
   ]
  },
  {
   "cell_type": "code",
   "execution_count": 6,
   "metadata": {
    "collapsed": false
   },
   "outputs": [
    {
     "name": "stdout",
     "output_type": "stream",
     "text": [
      "Pobability of losing =  0.4518\n"
     ]
    }
   ],
   "source": [
    "def rollLoadedDie():\n",
    "    if random.random() < 1.0 / 5.5:\n",
    "        return 6\n",
    "    else:\n",
    "        return random.choice([1,2,3,4,5])\n",
    "\n",
    "checkPascal(10000, rollLoadedDie)"
   ]
  },
  {
   "cell_type": "markdown",
   "metadata": {},
   "source": [
    "这种“方法”即**蒙特卡罗模拟**。可以用这样的方法检验硬币是不是公平的。"
   ]
  },
  {
   "cell_type": "code",
   "execution_count": 10,
   "metadata": {
    "collapsed": false
   },
   "outputs": [
    {
     "name": "stdout",
     "output_type": "stream",
     "text": [
      "0.0\n",
      "0.4\n",
      "0.5\n",
      "0.497\n",
      "0.5038\n",
      "0.49997\n",
      "0.500531\n"
     ]
    }
   ],
   "source": [
    "def flip(numFlips):\n",
    "    heads = 0\n",
    "    for i in range(numFlips):\n",
    "        if random.random() < 0.5:\n",
    "            heads += 1\n",
    "    return heads / float(numFlips)\n",
    "\n",
    "for i in range(7):\n",
    "    print flip(10**i)"
   ]
  },
  {
   "cell_type": "markdown",
   "metadata": {},
   "source": [
    "### L5 Problem1\n",
    "\n",
    "三红球三绿球。无放回。求抓出三枚同色球的概率。\n",
    "\n",
    "理论解：$$\\frac{2}{6 \\choose 3}$$"
   ]
  },
  {
   "cell_type": "code",
   "execution_count": 11,
   "metadata": {
    "collapsed": false
   },
   "outputs": [
    {
     "data": {
      "text/plain": [
       "0.1"
      ]
     },
     "execution_count": 11,
     "metadata": {},
     "output_type": "execute_result"
    }
   ],
   "source": [
    "2.0 / (6 * 5 * 4 / (3 * 2 * 1))"
   ]
  },
  {
   "cell_type": "code",
   "execution_count": 27,
   "metadata": {
    "collapsed": false
   },
   "outputs": [
    {
     "data": {
      "text/plain": [
       "0.1001"
      ]
     },
     "execution_count": 27,
     "metadata": {},
     "output_type": "execute_result"
    }
   ],
   "source": [
    "import random\n",
    "\n",
    "def sameColorProb(numSelect):\n",
    "    sameColor = 0.0\n",
    "    redBalls = [1,2,3]\n",
    "    greenBalls = [4,5,6]\n",
    "    balls = redBalls + greenBalls#1,2,3 represent red, others represent green\n",
    "    for i in range(numSelect):      \n",
    "        selected_balls = random.sample(balls, 3)\n",
    "        if set(selected_balls) == set(redBalls) or set(selected_balls) == set(greenBalls):\n",
    "            sameColor += 1\n",
    "    return sameColor / numSelect\n",
    "\n",
    "sameColorProb(10000)"
   ]
  },
  {
   "cell_type": "code",
   "execution_count": 29,
   "metadata": {
    "collapsed": false
   },
   "outputs": [],
   "source": [
    "def noReplacementSimulation(numTrials):\n",
    "    '''\n",
    "    Runs numTrials trials of a Monte Carlo simulation\n",
    "    of drawing 3 balls out of a bucket containing\n",
    "    3 red and 3 green balls. Balls are not replaced once\n",
    "    drawn. Returns the a decimal - the fraction of times 3 \n",
    "    balls of the same color were drawn.\n",
    "    '''\n",
    "    # Your code here\n",
    "    sameColor = 0.0\n",
    "    redBalls = [1,2,3]\n",
    "    greenBalls = [4,5,6]\n",
    "    balls = redBalls + greenBalls#1,2,3 represent red, others represent green\n",
    "    for i in range(numTrials):      \n",
    "        selected_balls = random.sample(balls, 3)\n",
    "        if set(selected_balls) == set(redBalls) or set(selected_balls) == set(greenBalls):\n",
    "            sameColor += 1\n",
    "    return sameColor / numTrials"
   ]
  },
  {
   "cell_type": "code",
   "execution_count": 30,
   "metadata": {
    "collapsed": false
   },
   "outputs": [
    {
     "data": {
      "text/plain": [
       "0.1003"
      ]
     },
     "execution_count": 30,
     "metadata": {},
     "output_type": "execute_result"
    }
   ],
   "source": [
    "sameColorProb(10000)"
   ]
  },
  {
   "cell_type": "markdown",
   "metadata": {},
   "source": [
    "### 蒙特卡洛法求PI"
   ]
  },
  {
   "cell_type": "code",
   "execution_count": 36,
   "metadata": {
    "collapsed": false
   },
   "outputs": [
    {
     "name": "stdout",
     "output_type": "stream",
     "text": [
      "Est. = 3.14844, Std. dev. = 0.047886, Needles = 1000\n",
      "Est. = 3.13918, Std. dev. = 0.035495, Needles = 2000\n",
      "Est. = 3.14108, Std. dev. = 0.02713, Needles = 4000\n",
      "Est. = 3.141435, Std. dev. = 0.016805, Needles = 8000\n",
      "Est. = 3.141355, Std. dev. = 0.0137, Needles = 16000\n",
      "Est. = 3.14131375, Std. dev. = 0.008476, Needles = 32000\n",
      "Est. = 3.141171875, Std. dev. = 0.007028, Needles = 64000\n",
      "Est. = 3.1415896875, Std. dev. = 0.004035, Needles = 128000\n",
      "Est. = 3.14174140625, Std. dev. = 0.003536, Needles = 256000\n",
      "Est. = 3.14155671875, Std. dev. = 0.002101, Needles = 512000\n"
     ]
    },
    {
     "data": {
      "text/plain": [
       "3.14155671875"
      ]
     },
     "execution_count": 36,
     "metadata": {},
     "output_type": "execute_result"
    }
   ],
   "source": [
    "import random, pylab\n",
    "\n",
    "#set line width\n",
    "pylab.rcParams['lines.linewidth'] = 6\n",
    "#set font size for titles \n",
    "pylab.rcParams['axes.titlesize'] = 20\n",
    "#set font size for labels on axes\n",
    "pylab.rcParams['axes.labelsize'] = 20\n",
    "#set size of numbers on x-axis\n",
    "pylab.rcParams['xtick.major.size'] = 5\n",
    "#set size of numbers on y-axis\n",
    "pylab.rcParams['ytick.major.size'] = 5\n",
    "#set font size for text\n",
    "pylab.rcParams['legend.fontsize'] = 20\n",
    "\n",
    "def stdDev(X):\n",
    "    mean = sum(X) / float(len(X))\n",
    "    tot = 0.0\n",
    "    for x in X:\n",
    "        tot += (x - mean) ** 2\n",
    "    return (tot / len(X)) ** 0.5\n",
    "\n",
    "def throwNeedles(numNeedles):\n",
    "    inCircle = 0\n",
    "    for i in range(numNeedles):\n",
    "        x = random.random()\n",
    "        y = random.random()\n",
    "        if (x * x + y * y) ** 0.5 <= 1.0:\n",
    "            inCircle += 1\n",
    "    return 4 * inCircle / float(numNeedles)\n",
    "\n",
    "def getEst(numNeedles, numTrials):\n",
    "    estimates = []\n",
    "    for t in range(numTrials):\n",
    "        piGuess = throwNeedles(numNeedles)\n",
    "        estimates.append(piGuess)\n",
    "    sDev = stdDev(estimates)\n",
    "    curEst = sum(estimates) / len(estimates)\n",
    "    print 'Est. = ' + str(curEst) +\\\n",
    "          ', Std. dev. = ' + str(round(sDev, 6))+\\\n",
    "          ', Needles = ' + str(numNeedles)\n",
    "    return (curEst, sDev)\n",
    "\n",
    "def estPi(precision, numTrials):\n",
    "    numNeedles = 1000\n",
    "    sDev = precision\n",
    "    while sDev >= precision / 2.0:\n",
    "        curEst, sDev = getEst(numNeedles, numTrials)\n",
    "        numNeedles *= 2\n",
    "    return curEst\n",
    "\n",
    "random.seed(0)\n",
    "estPi(0.005, 100)"
   ]
  },
  {
   "cell_type": "code",
   "execution_count": null,
   "metadata": {
    "collapsed": true
   },
   "outputs": [],
   "source": []
  }
 ],
 "metadata": {
  "kernelspec": {
   "display_name": "Python 2",
   "language": "python",
   "name": "python2"
  },
  "language_info": {
   "codemirror_mode": {
    "name": "ipython",
    "version": 2
   },
   "file_extension": ".py",
   "mimetype": "text/x-python",
   "name": "python",
   "nbconvert_exporter": "python",
   "pygments_lexer": "ipython2",
   "version": "2.7.11"
  }
 },
 "nbformat": 4,
 "nbformat_minor": 0
}
