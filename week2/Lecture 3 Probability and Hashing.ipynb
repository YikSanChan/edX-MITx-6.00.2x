{
 "cells": [
  {
   "cell_type": "markdown",
   "metadata": {},
   "source": [
    "### Simple Probability"
   ]
  },
  {
   "cell_type": "code",
   "execution_count": 1,
   "metadata": {
    "collapsed": true
   },
   "outputs": [],
   "source": [
    "import random\n",
    "\n",
    "def rollDie():\n",
    "    return random.choice([1,2,3,4,5,6])\n",
    "\n",
    "def rollN(n):\n",
    "    result = ''\n",
    "    for i in range(n):\n",
    "        result = result + str(rollDie())\n",
    "    return result"
   ]
  },
  {
   "cell_type": "code",
   "execution_count": 2,
   "metadata": {
    "collapsed": false
   },
   "outputs": [
    {
     "data": {
      "text/plain": [
       "'35131'"
      ]
     },
     "execution_count": 2,
     "metadata": {},
     "output_type": "execute_result"
    }
   ],
   "source": [
    "rollN(5)"
   ]
  },
  {
   "cell_type": "code",
   "execution_count": 3,
   "metadata": {
    "collapsed": false
   },
   "outputs": [
    {
     "name": "stdout",
     "output_type": "stream",
     "text": [
      "Average number of tries = 7429.21\n"
     ]
    }
   ],
   "source": [
    "def getTarget(goal):\n",
    "    numTries = 0\n",
    "    numRolls = len(goal)\n",
    "    while True:\n",
    "        numTries += 1\n",
    "        result = rollN(numRolls)\n",
    "        if result == goal:\n",
    "            return numTries\n",
    "\n",
    "def runSim(goal, numTrials):\n",
    "    total = 0\n",
    "    for i in range(numTrials):\n",
    "        total += getTarget(goal)\n",
    "    print 'Average number of tries =', total/float(numTrials)\n",
    "\n",
    "runSim('11111', 100)"
   ]
  },
  {
   "cell_type": "code",
   "execution_count": 4,
   "metadata": {
    "collapsed": false
   },
   "outputs": [
    {
     "data": {
      "text/plain": [
       "7776"
      ]
     },
     "execution_count": 4,
     "metadata": {},
     "output_type": "execute_result"
    }
   ],
   "source": [
    "6**5"
   ]
  },
  {
   "cell_type": "code",
   "execution_count": 5,
   "metadata": {
    "collapsed": false
   },
   "outputs": [
    {
     "name": "stdout",
     "output_type": "stream",
     "text": [
      "0.859\n"
     ]
    }
   ],
   "source": [
    "# 1 appears at least one time\n",
    "\n",
    "def atLeastOneOne(numRolls, numTrials):\n",
    "    numSuccess = 0\n",
    "    for i in range(numTrials):\n",
    "        rolls = rollN(numRolls)\n",
    "        if '1' in rolls:\n",
    "            numSuccess += 1\n",
    "        fracSuccess = numSuccess/float(numTrials)\n",
    "    print fracSuccess\n",
    "\n",
    "atLeastOneOne(10, 1000)"
   ]
  },
  {
   "cell_type": "code",
   "execution_count": 7,
   "metadata": {
    "collapsed": false
   },
   "outputs": [
    {
     "data": {
      "text/plain": [
       "0.8384944171101543"
      ]
     },
     "execution_count": 7,
     "metadata": {},
     "output_type": "execute_result"
    }
   ],
   "source": [
    "1 - (5.0 / 6.0)**10"
   ]
  },
  {
   "cell_type": "markdown",
   "metadata": {},
   "source": [
    "### Hashing"
   ]
  },
  {
   "cell_type": "code",
   "execution_count": 17,
   "metadata": {
    "collapsed": false
   },
   "outputs": [
    {
     "name": "stdout",
     "output_type": "stream",
     "text": [
      "Index = 97\n",
      "Index = 74111104110321051153297329911111110832100117100101\n"
     ]
    }
   ],
   "source": [
    "import random\n",
    "\n",
    "def strToInt(s):\n",
    "    number = ''\n",
    "    for c in s:\n",
    "        number = number + str(ord(c))\n",
    "    index = int(number)\n",
    "    return index\n",
    "\n",
    "print 'Index =', strToInt('a')\n",
    "print 'Index =', strToInt('John is a cool dude')"
   ]
  },
  {
   "cell_type": "code",
   "execution_count": 18,
   "metadata": {
    "collapsed": false
   },
   "outputs": [
    {
     "name": "stdout",
     "output_type": "stream",
     "text": [
      "97\n",
      "66\n"
     ]
    }
   ],
   "source": [
    "def hashStr(s, tableSize = 101):\n",
    "    number = ''\n",
    "    for c in s:\n",
    "        number = number + str(ord(c))\n",
    "    index = int(number)%tableSize\n",
    "    return index\n",
    "\n",
    "print hashStr('a')\n",
    "print hashStr('John is a cool dude')"
   ]
  },
  {
   "cell_type": "code",
   "execution_count": 19,
   "metadata": {
    "collapsed": false
   },
   "outputs": [
    {
     "name": "stdout",
     "output_type": "stream",
     "text": [
      "2\n",
      "3\n",
      "5\n",
      "3\n"
     ]
    }
   ],
   "source": [
    "print hashStr('Eric', 7)\n",
    "print hashStr('Chris', 7)\n",
    "print hashStr('Sarina', 7)\n",
    "print hashStr('Jill', 7)"
   ]
  },
  {
   "cell_type": "code",
   "execution_count": 2,
   "metadata": {
    "collapsed": false
   },
   "outputs": [
    {
     "name": "stdout",
     "output_type": "stream",
     "text": [
      "\n",
      "The buckets are:\n",
      "   []\n",
      "   []\n",
      "   []\n",
      "   []\n",
      "   [(10328, 15)]\n",
      "   [(19232, 8)]\n",
      "   [(89268, 4)]\n",
      "   []\n",
      "   []\n",
      "   []\n",
      "   [(17874, 7)]\n",
      "   [(78166, 10), (15178, 19)]\n",
      "   [(11264, 12), (50472, 16)]\n",
      "   []\n",
      "   [(91828, 0)]\n",
      "   [(87160, 3)]\n",
      "   []\n",
      "   []\n",
      "   [(82871, 17)]\n",
      "   [(83829, 11)]\n",
      "   []\n",
      "   []\n",
      "   [(73421, 2)]\n",
      "   [(43523, 6), (80875, 14), (11913, 18)]\n",
      "   [(23688, 5), (58372, 9), (49440, 13)]\n",
      "   []\n",
      "   [(50689, 1)]\n",
      "   []\n",
      "   []\n"
     ]
    }
   ],
   "source": [
    "import random\n",
    "\n",
    "class intDict(object):\n",
    "    \"\"\"A dictionary with integer keys\"\"\"\n",
    "    \n",
    "    def __init__(self, numBuckets):\n",
    "        \"\"\"Create an empty dictionary\"\"\"\n",
    "        self.buckets = []\n",
    "        self.numBuckets = numBuckets\n",
    "        for i in range(numBuckets):\n",
    "            self.buckets.append([])\n",
    "            \n",
    "    def addEntry(self, dictKey, dictVal):\n",
    "        \"\"\"Assumes dictKey an int.  Adds an entry.\"\"\"\n",
    "        hashBucket = self.buckets[dictKey%self.numBuckets]\n",
    "        for i in range(len(hashBucket)):\n",
    "            if hashBucket[i][0] == dictKey:\n",
    "                hashBucket[i] = (dictKey, dictVal)\n",
    "                return\n",
    "        hashBucket.append((dictKey, dictVal))\n",
    "        \n",
    "    def getValue(self, dictKey):\n",
    "        \"\"\"Assumes dictKey an int.  Returns entry associated\n",
    "           with the key dictKey\"\"\"\n",
    "        hashBucket = self.buckets[dictKey%self.numBuckets]\n",
    "        for e in hashBucket:\n",
    "            if e[0] == dictKey:\n",
    "                return e[1]\n",
    "        return None\n",
    "    \n",
    "    def __str__(self): # for print D\n",
    "        res = ''   # Change 1\n",
    "        for b in self.buckets:\n",
    "            for t in b:\n",
    "                res = res + str(t[0]) + ':' + str(t[1]) + ','\n",
    "        return '{' + res[:-1] + '}' # Change 2\n",
    "\n",
    "D = intDict(29)\n",
    "for i in range(20):\n",
    "    #choose a random int in range(10**5)\n",
    "    key = random.choice(range(10**5))\n",
    "    D.addEntry(key, i)\n",
    "\n",
    "print '\\n', 'The buckets are:'\n",
    "for hashBucket in D.buckets: #violates abstraction barrier\n",
    "    print '  ', hashBucket"
   ]
  },
  {
   "cell_type": "code",
   "execution_count": 16,
   "metadata": {
    "collapsed": false
   },
   "outputs": [
    {
     "name": "stdout",
     "output_type": "stream",
     "text": [
      "{10328:15,19232:8,89268:4,17874:7,78166:10,15178:19,11264:12,50472:16,91828:0,87160:3,82871:17,83829:11,73421:2,43523:6,80875:14,11913:18,23688:5,58372:9,49440:13,50689:1}\n"
     ]
    }
   ],
   "source": [
    "print D # __str__"
   ]
  },
  {
   "cell_type": "markdown",
   "metadata": {},
   "source": [
    "### L3 Problem 1"
   ]
  },
  {
   "cell_type": "code",
   "execution_count": 13,
   "metadata": {
    "collapsed": false
   },
   "outputs": [
    {
     "data": {
      "text/plain": [
       "0.5"
      ]
     },
     "execution_count": 13,
     "metadata": {},
     "output_type": "execute_result"
    }
   ],
   "source": [
    "addResult = [i + j for i in range(1, 5) for j in range(1, 5)]\n",
    "resultEven = sum([1 if k % 2 == 0 else 0 for k in addResult])\n",
    "evenRatio = float(resultEven) / len(addResult)\n",
    "evenRatio"
   ]
  },
  {
   "cell_type": "markdown",
   "metadata": {
    "collapsed": true
   },
   "source": [
    "### L3 Problem5"
   ]
  },
  {
   "cell_type": "code",
   "execution_count": 5,
   "metadata": {
    "collapsed": true
   },
   "outputs": [],
   "source": [
    "import random\n",
    "\n",
    "class intDict(object):\n",
    "    \"\"\"A dictionary with integer keys\"\"\"\n",
    "    \n",
    "    def __init__(self, numBuckets):\n",
    "        \"\"\"Create an empty dictionary\"\"\"\n",
    "        self.buckets = []\n",
    "        self.numBuckets = numBuckets\n",
    "        for i in range(numBuckets):\n",
    "            self.buckets.append([])\n",
    "            \n",
    "    def addEntry(self, dictKey, dictVal):\n",
    "        \"\"\"Assumes dictKey an int.  Adds an entry.\"\"\"\n",
    "        hashBucket = self.buckets[dictKey%self.numBuckets]\n",
    "        for i in range(len(hashBucket)):\n",
    "            if hashBucket[i][0] == dictKey:\n",
    "                hashBucket[i] = (dictKey, dictVal)\n",
    "                return\n",
    "        hashBucket.append((dictKey, dictVal))\n",
    "        \n",
    "    def getValue(self, dictKey):\n",
    "        \"\"\"Assumes dictKey an int.  Returns entry associated\n",
    "           with the key dictKey\"\"\"\n",
    "        hashBucket = self.buckets[dictKey%self.numBuckets]\n",
    "        for e in hashBucket:\n",
    "            if e[0] == dictKey:\n",
    "                return e[1]\n",
    "        return None\n",
    "    \n",
    "    def __str__(self):\n",
    "        res = '{'\n",
    "        for b in self.buckets:\n",
    "            for t in b:\n",
    "                res = res + str(t[0]) + ':' + str(t[1]) + ','\n",
    "        return res[:-1] + '}' #res[:-1] removes the last comma\n",
    "\n",
    "\n",
    "def collision_prob(numBuckets, numInsertions):\n",
    "    '''\n",
    "    Given the number of buckets and the number of items to insert, \n",
    "    calculates the probability of a collision.\n",
    "    '''\n",
    "    prob = 1.0\n",
    "    for i in range(1, numInsertions):\n",
    "        prob = prob * ((numBuckets - i) / float(numBuckets))\n",
    "    return 1 - prob\n",
    "\n",
    "def sim_insertions(numBuckets, numInsertions):\n",
    "    '''\n",
    "    Run a simulation for numInsertions insertions into the hash table.\n",
    "    '''\n",
    "    choices = range(numBuckets)\n",
    "    used = []\n",
    "    for i in range(numInsertions):\n",
    "        hashVal = random.choice(choices)\n",
    "        if hashVal in used:\n",
    "            return False\n",
    "        else:\n",
    "            used.append(hashVal)\n",
    "    return True\n",
    "\n",
    "def observe_prob(numBuckets, numInsertions, numTrials):\n",
    "    '''\n",
    "    Given the number of buckets and the number of items to insert, \n",
    "    runs a simulation numTrials times to observe the probability of a collision.\n",
    "    '''\n",
    "    probs = []\n",
    "    for t in range(numTrials):\n",
    "        probs.append(sim_insertions(numBuckets, numInsertions))\n",
    "    return 1 - sum(probs)/float(numTrials)\n",
    "\n",
    "\n",
    "def main():\n",
    "    hash_table = intDict(25)\n",
    "    hash_table.addEntry(15, 'a')\n",
    "    random.seed(1) # Uncomment for consistent results\n",
    "    for i in range(20):\n",
    "        hash_table.addEntry(int(random.random() * (10 ** 9)), i)\n",
    "    hash_table.addEntry(15, 'b')\n",
    "    print hash_table.buckets  #evil\n",
    "    print '\\n', 'hash_table =', hash_table\n",
    "    print hash_table.getValue(15)"
   ]
  },
  {
   "cell_type": "code",
   "execution_count": 7,
   "metadata": {
    "collapsed": false
   },
   "outputs": [
    {
     "data": {
      "text/plain": [
       "0.7122686568799875"
      ]
     },
     "execution_count": 7,
     "metadata": {},
     "output_type": "execute_result"
    }
   ],
   "source": [
    "collision_prob(1000, 50)"
   ]
  },
  {
   "cell_type": "code",
   "execution_count": 8,
   "metadata": {
    "collapsed": false
   },
   "outputs": [
    {
     "data": {
      "text/plain": [
       "0.9999999994781328"
      ]
     },
     "execution_count": 8,
     "metadata": {},
     "output_type": "execute_result"
    }
   ],
   "source": [
    "collision_prob(1000, 200)"
   ]
  },
  {
   "cell_type": "code",
   "execution_count": 11,
   "metadata": {
    "collapsed": false
   },
   "outputs": [
    {
     "data": {
      "text/plain": [
       "0.692"
      ]
     },
     "execution_count": 11,
     "metadata": {},
     "output_type": "execute_result"
    }
   ],
   "source": [
    "observe_prob(1000, 50, 1000)"
   ]
  },
  {
   "cell_type": "code",
   "execution_count": 12,
   "metadata": {
    "collapsed": false
   },
   "outputs": [
    {
     "data": {
      "text/plain": [
       "1.0"
      ]
     },
     "execution_count": 12,
     "metadata": {},
     "output_type": "execute_result"
    }
   ],
   "source": [
    "observe_prob(1000, 200, 1000)"
   ]
  },
  {
   "cell_type": "code",
   "execution_count": 13,
   "metadata": {
    "collapsed": false
   },
   "outputs": [
    {
     "data": {
      "text/plain": [
       "0.7063162427192688"
      ]
     },
     "execution_count": 13,
     "metadata": {},
     "output_type": "execute_result"
    }
   ],
   "source": [
    "collision_prob(365, 30)"
   ]
  },
  {
   "cell_type": "code",
   "execution_count": 14,
   "metadata": {
    "collapsed": false
   },
   "outputs": [
    {
     "data": {
      "text/plain": [
       "1.0"
      ]
     },
     "execution_count": 14,
     "metadata": {},
     "output_type": "execute_result"
    }
   ],
   "source": [
    "collision_prob(365, 250)"
   ]
  },
  {
   "cell_type": "code",
   "execution_count": 15,
   "metadata": {
    "collapsed": false
   },
   "outputs": [
    {
     "name": "stdout",
     "output_type": "stream",
     "text": [
      "56\n"
     ]
    }
   ],
   "source": [
    "for i in range(30, 250):\n",
    "    if collision_prob(365, i) > 0.99:\n",
    "        print i - 1\n",
    "        break"
   ]
  },
  {
   "cell_type": "code",
   "execution_count": null,
   "metadata": {
    "collapsed": true
   },
   "outputs": [],
   "source": []
  }
 ],
 "metadata": {
  "kernelspec": {
   "display_name": "Python 2",
   "language": "python",
   "name": "python2"
  },
  "language_info": {
   "codemirror_mode": {
    "name": "ipython",
    "version": 2
   },
   "file_extension": ".py",
   "mimetype": "text/x-python",
   "name": "python",
   "nbconvert_exporter": "python",
   "pygments_lexer": "ipython2",
   "version": "2.7.10"
  }
 },
 "nbformat": 4,
 "nbformat_minor": 0
}
